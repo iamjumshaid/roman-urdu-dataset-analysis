{
 "cells": [
  {
   "cell_type": "markdown",
   "metadata": {},
   "source": [
    "### Analyzing  Data"
   ]
  },
  {
   "cell_type": "code",
   "execution_count": 1,
   "metadata": {},
   "outputs": [],
   "source": [
    "#Libraries\n",
    "from pandas import read_csv\n",
    "import matplotlib.pyplot as plt\n",
    "import numpy as np\n",
    "import pandas as pd\n",
    "import matplotlib.pyplot as plt\n",
    "from pandas.plotting import scatter_matrix\n",
    "import matplotlib as matplotlib\n",
    "import matplotlib.lines as mlines\n",
    "import sklearn"
   ]
  },
  {
   "cell_type": "code",
   "execution_count": 2,
   "metadata": {
    "scrolled": true
   },
   "outputs": [
    {
     "data": {
      "text/html": [
       "<div>\n",
       "<style scoped>\n",
       "    .dataframe tbody tr th:only-of-type {\n",
       "        vertical-align: middle;\n",
       "    }\n",
       "\n",
       "    .dataframe tbody tr th {\n",
       "        vertical-align: top;\n",
       "    }\n",
       "\n",
       "    .dataframe thead th {\n",
       "        text-align: right;\n",
       "    }\n",
       "</style>\n",
       "<table border=\"1\" class=\"dataframe\">\n",
       "  <thead>\n",
       "    <tr style=\"text-align: right;\">\n",
       "      <th></th>\n",
       "      <th>Review</th>\n",
       "      <th>Sentiment</th>\n",
       "    </tr>\n",
       "  </thead>\n",
       "  <tbody>\n",
       "    <tr>\n",
       "      <td>0</td>\n",
       "      <td>Sai kha ya her kisi kay bus ki bat nhi hai lak...</td>\n",
       "      <td>Positive</td>\n",
       "    </tr>\n",
       "    <tr>\n",
       "      <td>1</td>\n",
       "      <td>sahi bt h</td>\n",
       "      <td>Positive</td>\n",
       "    </tr>\n",
       "    <tr>\n",
       "      <td>2</td>\n",
       "      <td>Kya bt hai,</td>\n",
       "      <td>Positive</td>\n",
       "    </tr>\n",
       "    <tr>\n",
       "      <td>3</td>\n",
       "      <td>Wah je wah</td>\n",
       "      <td>Positive</td>\n",
       "    </tr>\n",
       "    <tr>\n",
       "      <td>4</td>\n",
       "      <td>Are wha kaya bat hai</td>\n",
       "      <td>Positive</td>\n",
       "    </tr>\n",
       "  </tbody>\n",
       "</table>\n",
       "</div>"
      ],
      "text/plain": [
       "                                              Review Sentiment\n",
       "0  Sai kha ya her kisi kay bus ki bat nhi hai lak...  Positive\n",
       "1                                          sahi bt h  Positive\n",
       "2                                        Kya bt hai,  Positive\n",
       "3                                         Wah je wah  Positive\n",
       "4                               Are wha kaya bat hai  Positive"
      ]
     },
     "execution_count": 2,
     "metadata": {},
     "output_type": "execute_result"
    }
   ],
   "source": [
    "url = \"dataset.csv\"\n",
    "dataset = read_csv(url)\n",
    "dataset = dataset.iloc[: , :2]\n",
    "dataset.dropna()\n",
    "dataset.head(5)"
   ]
  },
  {
   "cell_type": "code",
   "execution_count": 3,
   "metadata": {
    "scrolled": true
   },
   "outputs": [
    {
     "name": "stdout",
     "output_type": "stream",
     "text": [
      "Number of data points:  40458\n",
      "Sentiment\n",
      "Negative    5287\n",
      "Neutral     8929\n",
      "Positive    6013\n",
      "dtype: int64\n"
     ]
    }
   ],
   "source": [
    "print(\"Number of data points: \",dataset.size)\n",
    "print(dataset.groupby('Sentiment').size())"
   ]
  },
  {
   "cell_type": "markdown",
   "metadata": {},
   "source": [
    "## Creating TF-IDF Vectors"
   ]
  },
  {
   "cell_type": "code",
   "execution_count": 4,
   "metadata": {},
   "outputs": [
    {
     "name": "stdout",
     "output_type": "stream",
     "text": [
      "['10 saal', '11 baje', '14 august', '14 saal', '16 august', '1936 mein', '1937 mein', '1938 mein', '1940 mein', '1942 mein', '1944 mein', '1946 ko', '1946 mein', '1947 mein', '1948 mein', '1949 mein', '1950 mein', '1951 mein', '1952 ko', '1952 mein', '1953 mein', '1954 mein', '1955 mein', '1956 mein', '1957 mein', '1958 mein', '1959 mein', '1960 mein', '1961 mein', '1962 mein', '1963 mein', '1964 mein', '1965 ki', '1965 mein', '1966 mein', '1967 mein', '1968 mein', '1969 mein', '1970 mein', '1971 ko', '1971 mein', '1972 mein', '1973 mein', '1974 mein', '1975 ko', '1976 mein', '1977 mein', '1978 mein', '1979 mein', '1980 mein', '1981 mein', '1982 mein', '1983 mein', '1984 mein', '1985 mein', '1986 mein', '1988 mein', '1989 mein', '1990 ko', '1990 mein', '1991 mein', '1992 mein', '1993 ko', '1993 mein', '1994 ko', '1994 mein', '1995 mein', '1996 ko', '1997 ko', '1997 mein', '1998 mein', '1999 mein', '20 saal', '2001 mein', '2002 mein', '2004 ko', '2004 mein', '2005 ko', '2005 mein', '2006 ko', '2006 mein', '2007 ko', '2007 mein', '2008 mein', '2009 mein', '2010 mein', '2011 mein', '2012 mein', '2013 ke', '2013 mein', '24 24', '30 saal', '31 december', '50 saal', '625 dafa', '70 maaon', '99 bar', 'aa gae', 'aa gaey', 'aa gai', 'aa gaya', 'aa gya', 'aa ja', 'aa kar', 'aa raha', 'aa rhi', 'aaegi baraat', 'aafia ko', 'aaghaz kiya', 'aai to', 'aaj bhi', 'aaj ka', 'aaj kal', 'aaj ke', 'aaj raat', 'aaj tak', 'aala ke', 'aala taleem', 'aanay waly', 'aane ke', 'aane wale', 'aane wali', 'aap aik', 'aap apnay', 'aap bhi', 'aap is', 'aap ka', 'aap ke', 'aap ki', 'aap ko', 'aap log', 'aap ne', 'aap ny', 'aap se', 'aata hai', 'aate hain', 'aati hai', 'aati hain', 'aaya allah', 'ab ap', 'ab bhi', 'ab is', 'ab ki', 'ab sirf', 'ab tak', 'ab to', 'ab tou', 'ab tu', 'ab wo', 'ab ye', 'ab yeh', 'abdul bari', 'abdul ghaffar', 'abdul haq', 'abdul sattar', 'abdullah haroon', 'abhee tak', 'abhi bhi', 'abhi tak', 'abhi to', 'abi tak', 'abid ali', 'academy mein', 'acha drama', 'acha ha', 'acha hai', 'acha he', 'acha hota', 'acha hy', 'acha kam', 'acha laga', 'acha lagta', 'acha nahi', 'acha product', 'acha tha', 'achay hain', 'achi aur', 'achi baat', 'achi bat', 'achi cheez', 'achi ha', 'achi hai', 'achi hain', 'achi ho', 'achi hy', 'achi karkardagi', 'achi lag', 'achi lagi', 'achi lagti', 'achi quality', 'achi thi', 'achievement award', 'acting ke', 'acting ki', 'action films', 'ada kiya', 'adaa kiya', 'adaa kiye', 'adab mein', 'adakari ke', 'adakari ki', 'adalat ne', 'adnan ansar', 'aezaaz bhi', 'afghanistan mein', 'afia ko', 'afraad halaak', 'afraad zakhmi', 'afrad janbahaq', 'afrad ke', 'afrad ki', 'afrad qatal', 'afrad rabta', 'afrad zakhmi', 'afridi ki', 'afridi ne', 'agar aap', 'agar ap', 'agar hum', 'agar kisi', 'agar koi', 'agar main', 'agar wo', 'aghaz kiya', 'agr ap', 'agr ye', 'agree with', 'aha hai', 'aham kirdar', 'ahmed faiz', 'ahmed faraz', 'ahmed nadeem', 'ahmed ne', 'ahsan ne', 'aik ache', 'aik aesi', 'aik aham', 'aik aik', 'aik aur', 'aik baar', 'aik bar', 'aik bohat', 'aik dafa', 'aik din', 'aik dosre', 'aik film', 'aik he', 'aik hi', 'aik interview', 'aik kamyab', 'aik khas', 'aik martaba', 'aik naam', 'aik nae', 'aik naya', 'aik point', 'aik roza', 'aik saal', 'aik sath', 'aik taraf', 'aik tv', 'air force', 'aisa he', 'aisa hi', 'aisa lagta', 'aise hi', 'aisi hi', 'aj ka', 'aj kal', 'aj ki', 'aj tak', 'akhir mein', 'akmal ko', 'akram shaheed', 'al ya', 'alag alag', 'alam ke', 'alam ki', 'alam ne', 'ali aur', 'ali bhai', 'ali bhutto', 'ali jauhar', 'ali jinnah', 'ali ka', 'ali ke', 'ali khan', 'ali ki', 'ali ko', 'ali muhammed', 'ali ne', 'ali rashdi', 'ali se', 'ali shah', 'ali zardari', 'all india', 'all rounder', 'all the', 'allah aap', 'allah allah', 'allah aman', 'allah ap', 'allah apki', 'allah apko', 'allah beshak', 'allah ham', 'allah hamain', 'allah hazrat', 'allah hidayat', 'allah ho', 'allah hum', 'allah in', 'allah inko', 'allah is', 'allah ka', 'allah kareem', 'allah ke', 'allah ki', 'allah ko', 'allah lambi', 'allah maaf', 'allah madad', 'allah meri', 'allah mery', 'allah ne', 'allah paak', 'allah pak', 'allah rab', 'allah raham', 'allah reham', 'allah sab', 'allah salamat', 'allah sb', 'allah se', 'allah sub', 'allah sy', 'allah tala', 'allah walo', 'allama iqbal', 'allama raghib', 'alloulad our', 'almi din', 'almi satah', 'altaf hussain', 'amal ki', 'aman ke', 'aman ko', 'ambulance service', 'ameen allah', 'ameen ameen', 'ameen ameenameen', 'ameen sum', 'ameen suma', 'ameen ya', 'ameenameen ameen', 'america ka', 'america ke', 'america ki', 'america mein', 'american estate', 'ami abu', 'ami ko', 'amitabh bachan', 'amli zindagi', 'ammi abbu', 'ammi ko', 'and the', 'andaaz mein', 'andaza is', 'ane wale', 'angelina jolie', 'angelina ne', 'anjaam diye', 'anjuman ka', 'anjuman ke', 'anmol khazana', 'anna molka', 'ansar burney', 'ansar gujjar', 'ansari ne', 'anti ko', 'anty ko', 'anwar ki', 'anwar ne', 'aor bistary', 'ap bhi', 'ap bht', 'ap dono', 'ap dua', 'ap is', 'ap ka', 'ap ke', 'ap khud', 'ap ki', 'ap ko', 'ap liye', 'ap log', 'ap logo', 'ap na', 'ap nay', 'ap ne', 'ap ny', 'ap sab', 'ap sath', 'ap sb', 'ap se', 'ap sy', 'ap to', 'ap tu', 'apca pakistan', 'apki shop', 'apko bhi', 'apna ghar', 'apna haq', 'apne aik', 'apne bachon', 'apne career', 'apne daur', 'apne fun', 'apne ghar', 'apne kaam', 'apne khandan', 'apne mulk', 'apne naam', 'apne sath', 'apne walid', 'apni jagah', 'apni karkardagi', 'apni khidmat', 'apni maa', 'apni salahiyaton', 'apni tamam', 'apni taraf', 'apni waldah', 'apni zindagi', 'apny ghar', 'apny khany', 'apny qaribi', 'app ka', 'app ke', 'app ki', 'app ko', 'app nay', 'app ne', 'aqawami satah', 'aqwami satah', 'aram se', 'army chief', 'arsal ki', 'arsal ko', 'arsey tak', 'art films', 'art ki', 'as per', 'asa hi', 'asal main', 'asar say', 'ashfaq ahmed', 'asif ali', 'asif iqbal', 'asma jahangir', 'assembly ke', 'assembly ki', 'assembly mein', 'ata farmaye', 'ata hai', 'ata kary', 'ata kry', 'ataullah niazi', 'ati ha', 'ati hai', 'atta farmay', 'attaul haq', 'attaullah esakhelvi', 'aug ko', 'august ko', 'auhdey par', 'aunti ko', 'aunty ka', 'aunty ki', 'aunty ko', 'aunty ne', 'aunty uncle', 'aur aaj', 'aur aap', 'aur ab', 'aur agar', 'aur aik', 'aur aj', 'aur ap', 'aur apne', 'aur apni', 'aur bachon', 'aur bad', 'aur benazir', 'aur bhai', 'aur bhi', 'aur bohat', 'aur college', 'aur deegar', 'aur degar', 'aur director', 'aur do', 'aur english', 'aur film', 'aur fitting', 'aur geet', 'aur har', 'aur hum', 'aur imran', 'aur in', 'aur inhe', 'aur inho', 'aur is', 'aur isi', 'aur isko', 'aur iss', 'aur issi', 'aur jab', 'aur jin', 'aur jis', 'aur jo', 'aur kaam', 'aur kabhi', 'aur kapra', 'aur karachi', 'aur khud', 'aur ki', 'aur kisi', 'aur ko', 'aur koi', 'aur kuch', 'aur main', 'aur material', 'aur mayyaton', 'aur mein', 'aur mera', 'aur meri', 'aur mjhe', 'aur mujhe', 'aur mukhtalif', 'aur na', 'aur pakistan', 'aur pakistani', 'aur phir', 'aur punjab', 'aur quality', 'aur sab', 'aur samaji', 'aur sindh', 'aur sirf', 'aur size', 'aur the', 'aur tv', 'aur un', 'aur unhen', 'aur unhon', 'aur unki', 'aur us', 'aur usi', 'aur wahan', 'aur wo', 'aur woh', 'aur ye', 'aur yeh', 'aur yun', 'aurat hai', 'australia ke', 'awaam ka', 'awam ka', 'awam ke', 'awam ki', 'awam ko', 'awam se', 'award aur', 'award diya', 'award hasil', 'award ke', 'award se', 'awaz mein', 'aya hai', 'aya tha', 'aya to', 'aye ga', 'aye gi', 'ayub khan', 'azaadi ke', 'azam aur', 'azam ka', 'azam ke', 'azam khan', 'azam ki', 'azam ko', 'azam mohammed', 'azam ne', 'azam se', 'azam shaukat', 'azeem khelari', 'azeem tareen', 'azmat ko', 'baad app', 'baad bhi', 'baad hi', 'baad mein', 'baap ki', 'baap ko', 'baat ha', 'baat hai', 'baat ho', 'baat hy', 'baat ka', 'baat kar', 'baat ki', 'baat ko', 'baat nahi', 'baat par', 'baat se', 'baat thi', 'baat to', 'baat ye', 'baat yeh', 'baba urdu', 'bacha khan', 'bache hain', 'bache ki', 'bachi ko', 'bacho ko', 'bachon ke', 'bachon ki', 'bachon ko', 'bachon se', 'bachoon ko', 'bachpan mein', 'bachpan se', 'bachy ko', 'bad aap', 'bad azaa', 'bad azan', 'bad bhi', 'bad he', 'bad hi', 'bad inhe', 'bad inho', 'bad jab', 'bad jerry', 'bad ki', 'bad main', 'bad mein', 'bad qismati', 'bad se', 'bad un', 'bad unhon', 'bad wo', 'bad yeh', 'badi tadad', 'badqismati se', 'badshah salamat', 'baghair kisi', 'bahali ke', 'bainul aqwami', 'bajay se', 'bakhshay aameen', 'bal ke', 'ban gae', 'ban gai', 'ban gaya', 'ban gaye', 'ban jata', 'ban kar', 'bana deya', 'bana diya', 'bana kar', 'banai gai', 'banane ka', 'banane ke', 'banane ki', 'banane mein', 'banaya gaya', 'band ho', 'band kar', 'band karo', 'banne ka', 'banne ki', 'bano ke', 'bano ki', 'bano ne', 'banti hai', 'bar bar', 'bar phir', 'bara acha', 'baras bad', 'baras ke', 'baras ki', 'baras tak', 'baray mein', 'bare bhai', 'bare mein', 'barey mein', 'bari achi', 'bari baat', 'barkat ata', 'barkat wali', 'barson mein', 'bary bary', 'bary me', 'bat ha', 'bat hai', 'bat he', 'bat ho', 'bat hy', 'bat karna', 'bat karo', 'bat tu', 'bata dain', 'bata den', 'bata do', 'bataya ke', 'bataya tha', 'bazmi sahib', 'be had', 'be like', 'be shak', 'begum liaquat', 'behtar banane', 'behtar hai', 'ben ul', 'benazir bhutto', 'benul aqawami', 'benul aqwami', 'beron mulk', 'beshak allah', 'best hai', 'best of', 'bete hain', 'beti ko', 'betiyan hain', 'bhai allah', 'bhai ap', 'bhai hain', 'bhai jaan', 'bhai jan', 'bhai ki', 'bhai ko', 'bhai main', 'bhai ye', 'bhai yeh', 'bhar ke', 'bhar me', 'bhar mein', 'bhar pur', 'bharat ka', 'bharat ke', 'bharat ki', 'bharat mein', 'bharti foj', 'bhatti ki', 'bhatti ne', 'bhee nai', 'bhej diya', 'bhi acha', 'bhi achi', 'bhi aik', 'bhi aisa', 'bhi apne', 'bhi apni', 'bhi aur', 'bhi bohat', 'bhi buhat', 'bhi eid', 'bhi hai', 'bhi hain', 'bhi hasil', 'bhi hissa', 'bhi ho', 'bhi hota', 'bhi in', 'bhi is', 'bhi isi', 'bhi jari', 'bhi kaam', 'bhi kae', 'bhi kafi', 'bhi kaha', 'bhi kam', 'bhi karte', 'bhi ki', 'bhi kisi', 'bhi kiya', 'bhi koi', 'bhi kuch', 'bhi mil', 'bhi mila', 'bhi na', 'bhi nahi', 'bhi nai', 'bhi nazar', 'bhi nhi', 'bhi ni', 'bhi pakistan', 'bhi pesh', 'bhi rahe', 'bhi sahi', 'bhi shamil', 'bhi tha', 'bhi the', 'bhi to', 'bhi un', 'bhi use', 'bhi wo', 'bhi yahi', 'bhi ye', 'bhi yehi', 'bhot acha', 'bhot bhot', 'bht acha', 'bht achi', 'bht achy', 'bht bht', 'bht bura', 'bht he', 'bht hi', 'bht shukriya', 'bhutto kay', 'bhutto ki', 'bhutto ko', 'bhutto nay', 'bijli ki', 'bike ko', 'bil aakhir', 'bila muaawza', 'bilkul sahi', 'bilkul theek', 'bilquis edhi', 'bina par', 'bistary samet', 'board ka', 'board ke', 'bohat acha', 'bohat achay', 'bohat achi', 'bohat bohat', 'bohat he', 'bohat hee', 'bohat hi', 'bohat jald', 'bohat kaam', 'bohat kam', 'bohat kuch', 'bohat pasand', 'bohat se', 'bohat si', 'bohat ziyadah', 'bohot acha', 'bohot achi', 'boht acha', 'boht achi', 'boht boht', 'boht hi', 'bol dena', 'bol do', 'bol kahan', 'bol raha', 'bol rhy', 'bollywood ke', 'bollywood ki', 'bollywood mein', 'bomb blast', 'bombay se', 'book of', 'box office', 'brazil ke', 'brian lara', 'british open', 'bs ab', 'bs allah', 'bta dain', 'bta do', 'bta dy', 'buhat acha', 'buht acha', 'bunyad par', 'bunyad rakhi', 'bunyadi taur', 'bus ek', 'bushra ansari', 'but ye', 'captain naveed', 'career ka', 'career ke', 'career ki', 'career mein', 'career par', 'centuries aur', 'ch adnan', 'ch nisar', 'chahate the', 'chahiye ke', 'chahiye tha', 'chahiye thi', 'chahta hai', 'chahta hon', 'chahta hun', 'chahti hon', 'chal raha', 'chal rahi', 'chali gai', 'chalta hai', 'champion ship', 'chand raat', 'chaudhry aslam', 'check kar', 'check kr', 'check kro', 'cheez hai', 'cheif justice', 'chief justice', 'chief of', 'chk kr', 'chor do', 'chor family', 'chor kar', 'chota sa', 'chote bhai', 'choti si', 'chuka hai', 'chuke hain', 'chuke the', 'chukey they', 'chuki hai', 'chuki hain', 'chuki thi', 'chuki thin', 'chukka hai', 'chukka tha', 'chundrigar ne', 'class main', 'club mein', 'cm sindh', 'cng stations', 'coca cola', 'cola pila', 'college ke', 'college ki', 'college lahore', 'college mein', 'college se', 'colony me', 'comfortable hai', 'company ko', 'condoleezza rice', 'conference ki', 'congress ki', 'contact kr', 'corporation ke', 'council ke', 'council ki', 'court ke', 'court mein', 'court ne', 'cricket board', 'cricket ka', 'cricket ke', 'cricket ki', 'cricket mein', 'cricket se', 'cricket team', 'cup ka', 'cup ke', 'dafa ho', 'dakhil ho', 'dakhla liya', 'dar ul', 'daraz pk', 'daraz se', 'daur mein', 'dauran inho', 'dauran wo', 'dawam bakhshay', 'dawat di', 'day ameen', 'day matches', 'de ameen', 'de di', 'de dia', 'de diya', 'de ga', 'de kar', 'de ker', 'de rahe', 'dead bodies', 'december 1971', 'december 1997', 'december 2013', 'december ko', 'degree hasil', 'dehshat gardi', 'dekh kar', 'dekh ker', 'dekh lena', 'dekh lo', 'dekh rahe', 'dekha tha', 'dekhta hai', 'delhi mein', 'den martin', 'dena hai', 'dene ka', 'dene ke', 'dene ki', 'deta hai', 'deta hy', 'dete hain', 'dete rahe', 'deti hai', 'deti hain', 'dety hain', 'deya aur', 'deya gaya', 'deya jo', 'deya tha', 'deye gaye', 'di aur', 'di gai', 'di hai', 'di jis', 'di thi', 'dia gaya', 'dia ha', 'dia hai', 'diana ki', 'diet plan', 'dil hi', 'dil ka', 'dil ki', 'dil ko', 'dil krta', 'dil me', 'dil mein', 'dil se', 'dilon ko', 'dilon mein', 'din bad', 'din hai', 'din ka', 'din ki', 'din me', 'dist east', 'diya aur', 'diya gaya', 'diya hai', 'diya ja', 'diya jata', 'diya jaye', 'diya ke', 'diya tha', 'dj ki', 'do char', 'do saal', 'dono ka', 'dono ki', 'dono ko', 'dor mein', 'dosri shadi', 'dosri taraf', 'dost ki', 'dosto ko', 'doston ki', 'doston ko', 'dour mein', 'dr afia', 'drama ha', 'drama hai', 'drama ko', 'drama serial', 'dramas mien', 'dua farma', 'dua frma', 'dua hai', 'dua kar', 'dua karen', 'dua karna', 'dua ker', 'dua ki', 'dua kr', 'dua kren', 'dua kry', 'duao mai', 'duaon ki', 'duaon main', 'dunia mein', 'duniya bhar', 'duniya ka', 'duniya ke', 'duniya ki', 'duniya mein', 'duniya se', 'dushman ke', 'dushman ki', 'dy ameen', 'dy or', 'edhi foundation', 'edhi free', 'eee eee', 'eid ki', 'eid mubarak', 'eid mubarik', 'eid ul', 'ek din', 'elan kiya', 'election mein', 'eman or', 'emma watson', 'end pe', 'england ke', 'england mein', 'es se', 'esa bhi', 'esa hi', 'faisalabad mein', 'faisla kiya', 'faiz ahmed', 'family chor', 'family ke', 'family ko', 'fan ho', 'faraiyz anjaam', 'fare award', 'farma ameen', 'farmay ameen', 'farmaye ameen', 'farooq sheikh', 'fateh ali', 'federal govt', 'film arts', 'film aur', 'film bhi', 'film fare', 'film industry', 'film ka', 'film ke', 'film ki', 'film mein', 'film ne', 'film the', 'film thi', 'filmi career', 'filmon ka', 'filmon ke', 'filmon ki', 'filmon mein', 'films ka', 'films ke', 'films ki', 'films mein', 'films mien', 'filmy career', 'filmy duniya', 'final mein', 'fine art', 'firing or', 'firing se', 'firing shaks', 'first class', 'foj ke', 'foj mein', 'football world', 'for me', 'for the', 'for your', 'foundation ki', 'frma dain', 'from the', 'fun ka', 'ga allah', 'ga aur', 'ga insha', 'ga inshallah', 'ga is', 'ga jis', 'ga ke', 'ga to', 'ga ye', 'gae aur', 'gae lekin', 'gae the', 'gaey aur', 'gai aur', 'gai hai', 'gai hain', 'gai jis', 'gai lekin', 'gai thi', 'gai to', 'gait hi', 'gandhi ji', 'gandhi ke', 'garam hai', 'gaya aur', 'gaya hai', 'gaya jab', 'gaya jis', 'gaya ke', 'gaya lekin', 'gaya tha', 'gaya to', 'gaye aur', 'gaye hain', 'gaye thay', 'gaye to', 'general pervez', 'general raheel', 'general secretary', 'general zia', 'geya aur', 'ghaffar khan', 'ghair mamoli', 'ghair mulki', 'ghalib ki', 'ghalib ne', 'ghar ghar', 'ghar ka', 'ghar ke', 'ghar ki', 'ghar me', 'ghar mein', 'ghar pe', 'ghar se', 'ghar walon', 'gharane mein', 'ghari hai', 'ghulam ishaq', 'gi ke', 'gi to', 'gia hai', 'gir gira', 'gira dua', 'good good', 'good job', 'good luck', 'good news', 'good one', 'gory gory', 'goth me', 'goth mein', 'gradation ki', 'great man', 'great work', 'guzishta saal', 'gya ha', 'ha allah', 'ha ap', 'ha aur', 'ha but', 'ha ha', 'ha is', 'ha jis', 'ha jo', 'ha ke', 'ha na', 'ha or', 'ha sab', 'ha tu', 'ha us', 'ha wo', 'ha ya', 'ha ye', 'haal hai', 'haal he', 'had ha', 'had hoti', 'had tak', 'hafeez jullandhuri', 'hafeez main', 'hahaha ye', 'hai aap', 'hai ab', 'hai agar', 'hai aik', 'hai allah', 'hai ap', 'hai apki', 'hai aunty', 'hai aur', 'hai bas', 'hai bhai', 'hai bohat', 'hai bs', 'hai but', 'hai har', 'hai he', 'hai hum', 'hai in', 'hai is', 'hai isi', 'hai iska', 'hai iske', 'hai iski', 'hai jab', 'hai jin', 'hai jis', 'hai jo', 'hai ka', 'hai kafi', 'hai kay', 'hai ke', 'hai kia', 'hai kisi', 'hai koi', 'hai kya', 'hai kyun', 'hai laken', 'hai lakin', 'hai lekin', 'hai magar', 'hai main', 'hai mein', 'hai meine', 'hai mera', 'hai mere', 'hai mujhe', 'hai na', 'hai or', 'hai pakistan', 'hai par', 'hai plz', 'hai read', 'hai sab', 'hai sirf', 'hai size', 'hai to', 'hai toh', 'hai tou', 'hai tu', 'hai tum', 'hai un', 'hai ure', 'hai us', 'hai usko', 'hai wahan', 'hai wo', 'hai woh', 'hai xd', 'hai ya', 'hai ye', 'hai yeh', 'hain aap', 'hain allah', 'hain ap', 'hain aur', 'hain hum', 'hain in', 'hain is', 'hain jab', 'hain jin', 'hain jis', 'hain jo', 'hain ke', 'hain kia', 'hain kya', 'hain lekin', 'hain magar', 'hain na', 'hain or', 'hain to', 'hain un', 'hain ure', 'hain wo', 'hain ya', 'hain ye', 'hain yeh', 'hakeem sab', 'hakeem sahab', 'hakeem sb', 'hal ho', 'halaak aur', 'halaf uthaya', 'halan ke', 'halat mein', 'half centuries', 'halqon ki', 'halqon mein', 'ham sab', 'hamare mulk', 'hameed nizami', 'hamesha salamat', 'hamming bird', 'han han', 'han main', 'han na', 'han yr', 'hanif muhammad', 'haq ke', 'haq ki', 'haq mein', 'haq ne', 'haq qasmi', 'haqiqat hai', 'har bar', 'har din', 'har jaga', 'har waqt', 'haroon ne', 'harry potter', 'hartal ki', 'haseena wajid', 'hashim ke', 'hashim khan', 'hashim ne', 'hashir sahab', 'hasil hai', 'hasil hua', 'hasil hui', 'hasil kar', 'hasil karen', 'hasil karne', 'hasil kein', 'hasil ker', 'hasil ki', 'hasil kiya', 'hasil kiye', 'hasil na', 'hasil nahi', 'hasil thi', 'hat kar', 'hath mein', 'hath par', 'havaldar lalak', 'hawalay kar', 'hawale se', 'hay jo', 'hay or', 'hay yeh', 'hazrat ali', 'hazrat ji', 'hazrat ka', 'hazrat ki', 'hazrat ko', 'hazrat sahab', 'hazrat sb', 'he acha', 'he ha', 'he hai', 'he ho', 'he hoga', 'he in', 'he is', 'he jo', 'he ke', 'he ko', 'he koi', 'he mein', 'he na', 'he nahe', 'he nahi', 'he nai', 'he or', 'he to', 'he wo', 'he ye', 'helen keller', 'hen or', 'her waqt', 'hero ka', 'hero ke', 'hesiyat se', 'hi acha', 'hi aik', 'hi hai', 'hi hain', 'hi ho', 'hi hota', 'hi hua', 'hi im', 'hi kar', 'hi ki', 'hi koi', 'hi mein', 'hi na', 'hi nahi', 'hi nai', 'hi nhi', 'hi ni', 'hi tha', 'hi to', 'hi un', 'hidayat de', 'hifazat farmay', 'high court', 'high school', 'hijrat kar', 'hilal imtiaz', 'hind ke', 'hindustan ke', 'hindustan ki', 'hindustan mein', 'hisab se', 'hissa lene', 'hissa lete', 'hissa liya', 'hisse mein', 'hn allah', 'hn na', 'hn or', 'ho akbar', 'ho allah', 'ho ap', 'ho aur', 'ho chuka', 'ho chuke', 'ho chuki', 'ho chukka', 'ho ga', 'ho gae', 'ho gaein', 'ho gaey', 'ho gai', 'ho gait', 'ho gay', 'ho gaya', 'ho gaye', 'ho gayi', 'ho ge', 'ho gi', 'ho gia', 'ho gya', 'ho hi', 'ho in', 'ho is', 'ho ja', 'ho jae', 'ho jaen', 'ho jaey', 'ho jana', 'ho jao', 'ho jata', 'ho jate', 'ho jati', 'ho jay', 'ho jaya', 'ho jaye', 'ho jo', 'ho kar', 'ho kr', 'ho na', 'ho or', 'ho raha', 'ho rahe', 'ho rahi', 'ho rahy', 'ho rai', 'ho rha', 'ho rhi', 'ho saka', 'ho sakta', 'ho sakti', 'ho saky', 'ho skta', 'ho tm', 'ho to', 'ho toh', 'ho tou', 'ho tu', 'ho tum', 'ho us', 'ho wo', 'ho ya', 'ho ye', 'hoa hai', 'hodod qawanin', 'hoga jo', 'hogaya hai', 'hogaye hain', 'hoi aur', 'hoi hai', 'hoi jis', 'hoi thi', 'hoi to', 'hojata hai', 'hollywood ke', 'hollywood ki', 'hon aur', 'hon gy', 'hon ke', 'hon to', 'hona chaheye', 'hona chahiye', 'hona chahye', 'hona para', 'hona tha', 'honay ka', 'honay kay', 'honay ki', 'honay walay', 'hone ka', 'hone ke', 'hone ki', 'hone laga', 'hone se', 'hone wala', 'hone wale', 'hone wali', 'honi chahiye', 'hony ki', 'hony wali', 'hoqoq ki', 'horaha hai', 'hospital mein', 'hota ha', 'hota hai', 'hota he', 'hota hy', 'hota tha', 'hota to', 'hotay hain', 'hote hain', 'hote the', 'hoti ha', 'hoti hai', 'hoti hain', 'hoti he', 'hoti hy', 'hoti thi', 'hoti to', 'hoty hain', 'how to', 'howa aur', 'howa hai', 'hua aur', 'hua ha', 'hua hai', 'hua hy', 'hua ke', 'hua tha', 'hua to', 'hue aur', 'hue the', 'hue to', 'huey they', 'hui aur', 'hui hai', 'hui hain', 'hui thi', 'hui to', 'hukomat mein', 'hukumat ki', 'hukumat mein', 'hukumat ne', 'hukumat pakistan', 'hum aik', 'hum ap', 'hum bhi', 'hum dono', 'hum ko', 'hum log', 'hum mein', 'hum ne', 'hum ny', 'hum sab', 'hum se', 'hum sub', 'hum to', 'hum tv', 'hun aur', 'hun or', 'hussain aur', 'hussain bhatti', 'hussain ka', 'hussain ke', 'hussain ki', 'hussain ko', 'hussain nay', 'hussain ne', 'hussain shaheed', 'huwa tha', 'hy allah', 'hy ap', 'hy aur', 'hy is', 'hy jo', 'hy kia', 'hy koi', 'hy na', 'hy or', 'hy to', 'hy us', 'hy wo', 'hy ya', 'hy ye', 'iblaagh ne', 'ibn safi', 'ibrahim ismail', 'ibteda mein', 'ibtedai taleem', 'ice cream', 'idaron mein', 'iftikhar muhammad', 'ijazat nahi', 'ijlas mein', 'ikhteyar kar', 'ikhteyar ki', 'ilaaj kiya', 'im dil', 'imam bibi', 'imran khan', 'imran ko', 'in dino', 'in dono', 'in ka', 'in kay', 'in ke', 'in ki', 'in ko', 'in logo', 'in logon', 'in mein', 'in pakistan', 'in par', 'in sab', 'in se', 'in sha', 'in the', 'in this', 'inayat hussain', 'india ka', 'india ke', 'india mein', 'india muslim', 'india radio', 'indian national', 'industry ke', 'industry mein', 'inhe aik', 'inho ne', 'inkar kar', 'inke qiamat', 'inning mein', 'innings mein', 'insaan ko', 'insaf ki', 'insan ko', 'insani haqooq', 'insani hoqoq', 'insha allah', 'intakhabat mein', 'intekhabat mein', 'inteqal kar', 'international cricket', 'interview mein', 'intikhab alam', 'iqbal bano', 'iqbal ke', 'iqbal ne', 'iqrar bhai', 'is aunty', 'is azeem', 'is baat', 'is bar', 'is barey', 'is bat', 'is din', 'is doran', 'is drama', 'is drame', 'is duniya', 'is film', 'is good', 'is great', 'is hawale', 'is it', 'is ka', 'is kay', 'is ke', 'is ki', 'is ko', 'is ky', 'is leye', 'is liye', 'is lye', 'is main', 'is me', 'is mein', 'is mulk', 'is my', 'is ne', 'is not', 'is par', 'is pe', 'is per', 'is post', 'is pr', 'is price', 'is qadar', 'is saal', 'is say', 'is se', 'is show', 'is silsile', 'is so', 'is tarah', 'is tarha', 'is the', 'is this', 'is video', 'is waqat', 'is waqt', 'ishaq khan', 'isi film', 'isi liye', 'isi saal', 'isi tarah', 'isi tarha', 'iski quality', 'islam ke', 'islam ki', 'islamabad mein', 'ismail chundrigar', 'iss daur', 'iss dauran', 'iss ka', 'iss kay', 'iss ke', 'iss liye', 'iss mein', 'iss say', 'iss se', 'iss tarah', 'iss waqt', 'issi baras', 'istemal karne', 'it is', 'it up', 'it was', 'it wrong', 'itna acha', 'itni achi', 'iz kam', 'ja kar', 'ja kr', 'ja raha', 'ja rahe', 'ja rahi', 'ja rha', 'ja sake', 'ja sakta', 'ja sakti', 'jab aap', 'jab inho', 'jab ke', 'jab main', 'jab pakistan', 'jab tak', 'jab un', 'jab us', 'jab wo', 'jaddo jahad', 'jae ga', 'jae ke', 'jae to', 'jaen ga', 'jahan tak', 'jahan wo', 'jahangir badar', 'jahangir khan', 'jahangir ki', 'jahangir ne', 'jahil awam', 'jahil log', 'jail ki', 'jail mein', 'jald hi', 'jamat islami', 'jan bahaq', 'jan shaheed', 'jana hai', 'jana tha', 'janab altaf', 'janab justice', 'janam liya', 'janbahaq zakhmi', 'jane ka', 'jane ke', 'jane laga', 'jane wale', 'jane wali', 'jang azeem', 'jang mein', 'janib se', 'jansher khan', 'jante hain', 'janwar ko', 'jany ki', 'jar aha', 'jari hai', 'jari kar', 'jari kiya', 'jari raha', 'jarihana andaaz', 'jata ha', 'jata hai', 'jata hay', 'jata hy', 'jata tha', 'jatay hain', 'jate hain', 'jate the', 'jati hai', 'jati hain', 'jati hy', 'jati thi', 'jaty hain', 'javed miandad', 'jawab mein', 'jay ga', 'jaya prada', 'jaye ga', 'jaye gi', 'jaye to', 'jazak allah', 'jb tk', 'jeet ker', 'jeet li', 'jeetne mein', 'jerry lewis', 'jhangir khan', 'ji dua', 'jila watni', 'jin ka', 'jin ke', 'jin ki', 'jin ko', 'jin mein', 'jin se', 'jinho ne', 'jinhon ne', 'jis ka', 'jis kay', 'jis ke', 'jis ki', 'jis ko', 'jis main', 'jis mein', 'jis ne', 'jis par', 'jis se', 'jis tarah', 'jiya ki', 'jiya ko', 'jo aap', 'jo aik', 'jo apni', 'jo bad', 'jo bhi', 'jo goth', 'jo hum', 'jo in', 'jo is', 'jo jo', 'jo ke', 'jo kuch', 'jo log', 'jo main', 'jo nhi', 'jo pic', 'jo sab', 'jo shakhs', 'jo un', 'jo us', 'johar dikhae', 'johnny depp', 'justice iftikhar', 'justice muhammad', 'ka aaghaz', 'ka acha', 'ka aezaaz', 'ka agaz', 'ka aghaz', 'ka aik', 'ka alan', 'ka almi', 'ka amal', 'ka andaza', 'ka apna', 'ka asal', 'ka aur', 'ka azab', 'ka bacha', 'ka bachpan', 'ka bad', 'ka bais', 'ka bara', 'ka bayan', 'ka beta', 'ka bhai', 'ka bhi', 'ka bht', 'ka bohat', 'ka business', 'ka career', 'ka chand', 'ka dars', 'ka dawa', 'ka dil', 'ka din', 'ka dora', 'ka dosra', 'ka doure', 'ka drama', 'ka ehtijaj', 'ka ek', 'ka elaan', 'ka elan', 'ka faida', 'ka faisla', 'ka fasla', 'ka gana', 'ka ghar', 'ka gosht', 'ka ha', 'ka haal', 'ka hai', 'ka hal', 'ka halaf', 'ka haq', 'ka har', 'ka hath', 'ka he', 'ka hero', 'ka hi', 'ka hissa', 'ka ho', 'ka hukum', 'ka ilzam', 'ka imkan', 'ka imtehan', 'ka intekhab', 'ka inteqal', 'ka irada', 'ka is', 'ka istemal', 'ka izhaar', 'ka izhar', 'ka jawab', 'ka jazba', 'ka jo', 'ka kaam', 'ka kaha', 'ka kam', 'ka kehna', 'ka khatma', 'ka khayal', 'ka khilaf', 'ka kia', 'ka kirdar', 'ka koi', 'ka kuch', 'ka kya', 'ka lia', 'ka liye', 'ka logo', 'ka maqsad', 'ka markaz', 'ka matlab', 'ka mauqa', 'ka moqa', 'ka mozahra', 'ka mutalba', 'ka muzahira', 'ka na', 'ka naam', 'ka nahi', 'ka nam', 'ka name', 'ka nhi', 'ka nishana', 'ka number', 'ka paisa', 'ka paper', 'ka pata', 'ka pehla', 'ka phela', 'ka pora', 'ka pta', 'ka result', 'ka rohani', 'ka role', 'ka rukh', 'ka sab', 'ka safar', 'ka sahara', 'ka samna', 'ka sath', 'ka saya', 'ka shauq', 'ka shikar', 'ka show', 'ka shukar', 'ka shukria', 'ka shumar', 'ka silsila', 'ka talluq', 'ka taluq', 'ka tazkara', 'ka tha', 'ka to', 'ka wazifa', 'ka ye', 'ka yeh', 'ka zamana', 'ka zikar', 'ka ziyada', 'kaafi acha', 'kaafi achi', 'kaam bhi', 'kaam hai', 'kaam ka', 'kaam kar', 'kaam karna', 'kaam karne', 'kaam karta', 'kaam karte', 'kaam ke', 'kaam ki', 'kaam kiya', 'kaam mein', 'kaam nahi', 'kaam se', 'kaamon mein', 'kabhi bhi', 'kabhi kabhi', 'kabhi kisi', 'kabhi na', 'kabhi nahi', 'kafi acha', 'kafi hai', 'kafi time', 'kaha gaya', 'kaha hai', 'kaha ja', 'kaha jata', 'kaha kay', 'kaha ke', 'kaha se', 'kaha tha', 'kahan hai', 'kahan se', 'kai bar', 'kal ka', 'kal se', 'kam besh', 'kam hai', 'kam hi', 'kam ho', 'kam iz', 'kam kar', 'kam kiya', 'kam kr', 'kam nahi', 'kam nhi', 'kam se', 'kam umar', 'kam umer', 'kamal hai', 'kamal ka', 'kamal ki', 'kamal kr', 'kami ka', 'kami nahi', 'kamiyab films', 'kamiyabi hasil', 'kamiyabi ke', 'kamiyabi ki', 'kamon mein', 'kamyab aurat', 'kamyab rahe', 'kamyabi hasil', 'kamyabi ka', 'kamyabi ki', 'kapra hai', 'kapre ki', 'kar aap', 'kar aik', 'kar bhi', 'kar chuke', 'kar chuki', 'kar dain', 'kar day', 'kar de', 'kar dein', 'kar dete', 'kar deya', 'kar deye', 'kar di', 'kar dia', 'kar diya', 'kar diye', 'kar dy', 'kar gai', 'kar gaye', 'kar is', 'kar kay', 'kar ke', 'kar lain', 'kar len', 'kar lete', 'kar leya', 'kar li', 'kar lia', 'kar liya', 'kar lo', 'kar na', 'kar nay', 'kar raha', 'kar rahay', 'kar rahe', 'kar rahi', 'kar rahy', 'kar rakha', 'kar rha', 'kar sake', 'kar sakta', 'kar sakte', 'kar sakti', 'kar sakty', 'kar un', 'karachi kay', 'karachi ke', 'karachi ki', 'karachi ko', 'karachi me', 'karachi mein', 'karachi se', 'karachi university', 'karay ga', 'kare ga', 'karkardagi ka', 'karkardagi ko', 'karkardagi pesh', 'karna hai', 'karna para', 'karna parha', 'karna shuru', 'karna tha', 'karnay ka', 'karnay ki', 'karne ka', 'karne ke', 'karne ki', 'karne mein', 'karne par', 'karne se', 'karne wale', 'karne wali', 'karne walon', 'karo aur', 'karta ha', 'karta hai', 'karta hun', 'karta hy', 'karta tha', 'kartay hain', 'karte hain', 'karte howae', 'karte hoye', 'karte hue', 'karte rahe', 'karte the', 'karti hai', 'karti hain', 'karti thi', 'karti thin', 'karty hain', 'kary ameen', 'kary ga', 'kasam se', 'katrina kaif', 'katrina ne', 'kausar niazi', 'kay alawa', 'kay baad', 'kay bad', 'kay hisab', 'kay in', 'kay intakhabat', 'kay intekhabat', 'kay khilaf', 'kay leye', 'kay liay', 'kay liye', 'kay mutabiq', 'kay saath', 'kay sath', 'kay tamam', 'kay tayhat', 'kay tour', 'kay woh', 'ke 15', 'ke aaj', 'ke aakhri', 'ke aap', 'ke agar', 'ke aik', 'ke akhiri', 'ke apne', 'ke apni', 'ke aur', 'ke baad', 'ke bache', 'ke bachon', 'ke bad', 'ke bais', 'ke baiys', 'ke bajae', 'ke bajaye', 'ke bare', 'ke barey', 'ke bawajod', 'ke bawajood', 'ke behtareen', 'ke bhi', 'ke bohat', 'ke british', 'ke career', 'ke chairman', 'ke chote', 'ke darmiyan', 'ke daur', 'ke dauran', 'ke deegar', 'ke dil', 'ke dilon', 'ke din', 'ke director', 'ke do', 'ke dor', 'ke doran', 'ke dosre', 'ke dosri', 'ke editor', 'ke elawa', 'ke faraiyz', 'ke faraiz', 'ke film', 'ke final', 'ke fun', 'ke general', 'ke ghar', 'ke halaat', 'ke hamare', 'ke han', 'ke haq', 'ke har', 'ke hath', 'ke hathon', 'ke hawale', 'ke hisse', 'ke hoqoq', 'ke hum', 'ke ibtedai', 'ke ilawa', 'ke imran', 'ke in', 'ke ineqad', 'ke inhe', 'ke inho', 'ke inteqal', 'ke is', 'ke jab', 'ke jaise', 'ke jawab', 'ke jis', 'ke jo', 'ke johar', 'ke kaam', 'ke kae', 'ke kai', 'ke khail', 'ke khawateen', 'ke khelaf', 'ke khilaaf', 'ke khilaf', 'ke kirdar', 'ke kisi', 'ke koi', 'ke kuch', 'ke kya', 'ke leay', 'ke leye', 'ke liye', 'ke liyeh', 'ke logon', 'ke lye', 'ke madad', 'ke mahir', 'ke main', 'ke malik', 'ke masail', 'ke member', 'ke mere', 'ke meri', 'ke mujhe', 'ke mukhtalif', 'ke muqabil', 'ke muqable', 'ke musalmano', 'ke music', 'ke mutabiq', 'ke naam', 'ke natije', 'ke our', 'ke paas', 'ke pakistan', 'ke pas', 'ke peche', 'ke pehle', 'ke president', 'ke qareeb', 'ke qayam', 'ke qiyam', 'ke raste', 'ke roz', 'ke rukun', 'ke saamne', 'ke saath', 'ke sab', 'ke sabab', 'ke sadar', 'ke saddar', 'ke sadder', 'ke samne', 'ke sarbarah', 'ke sath', 'ke school', 'ke secretary', 'ke shadi', 'ke shayad', 'ke shehar', 'ke silsile', 'ke siyasi', 'ke songs', 'ke squash', 'ke tamam', 'ke taur', 'ke teen', 'ke tehat', 'ke test', 'ke the', 'ke ticket', 'ke tmam', 'ke tor', 'ke tour', 'ke tum', 'ke uhde', 'ke un', 'ke unhein', 'ke unhon', 'ke unwaan', 'ke us', 'ke wahid', 'ke walden', 'ke walid', 'ke waqat', 'ke waqt', 'ke wazeer', 'ke wazir', 'ke wo', 'ke woh', 'ke world', 'ke ye', 'ke yeh', 'ke zair', 'ke zamane', 'ke zariye', 'ke zarye', 'keep it', 'keh dena', 'keh raha', 'kehna hai', 'kehna tha', 'kehtay hain', 'kehte hain', 'keller ke', 'keller ki', 'keon ke', 'ker deya', 'ker di', 'ker ke', 'ker li', 'ker raha', 'ker rahi', 'ker tey', 'kerne ki', 'kerte they', 'key bad', 'key khelaf', 'key leyeh', 'keya tha', 'keye gaye', 'kha ke', 'kha tha', 'khabees aurat', 'khabees orat', 'khail ka', 'khail mein', 'khair mubarak', 'khan abdul', 'khan afridi', 'khan aik', 'khan aur', 'khan bhi', 'khan family', 'khan is', 'khan ka', 'khan ke', 'khan ki', 'khan ko', 'khan main', 'khan na', 'khan nay', 'khan ne', 'khan ney', 'khan niazi', 'khan se', 'khandan ke', 'khandan se', 'khany aor', 'khara ho', 'kharab ho', 'khas dua', 'khas nahi', 'khas taur', 'khas tor', 'khatam ho', 'khatam kar', 'khatoon ki', 'khawateen ka', 'khawateen ke', 'khawateen ki', 'khawateen ko', 'khawateen ne', 'khawateen women', 'khayal hai', 'khayal mein', 'khayal tha', 'khel kar', 'khelari they', 'khelaryon ki', 'khelne wale', 'khelte hue', 'khidmat ka', 'khidmat ke', 'khilaf bhi', 'khilaf karwai', 'khilaf warzi', 'khilafat tehreek', 'khilariyon ke', 'khilariyon ko', 'khiraj tehseen', 'khitab karte', 'khtm ho', 'khud bhi', 'khud he', 'khud hi', 'khud ko', 'khuda ka', 'khuda ki', 'khul kar', 'khursheed shah', 'khush hoon', 'ki aaegi', 'ki acting', 'ki adalat', 'ki aik', 'ki akhri', 'ki aksbandi', 'ki alamat', 'ki apni', 'ki appeal', 'ki aur', 'ki awaaz', 'ki awaz', 'ki azmat', 'ki baat', 'ki baatein', 'ki bachi', 'ki badaulat', 'ki badolat', 'ki bahali', 'ki bari', 'ki bartari', 'ki bat', 'ki behtareen', 'ki beti', 'ki bhi', 'ki bina', 'ki bohat', 'ki bt', 'ki bunyad', 'ki company', 'ki dahai', 'ki darkhast', 'ki darkhwast', 'ki dawat', 'ki degree', 'ki dehai', 'ki direction', 'ki do', 'ki dosri', 'ki dua', 'ki dunia', 'ki duniya', 'ki episode', 'ki family', 'ki farmaiysh', 'ki film', 'ki films', 'ki gae', 'ki gaeyki', 'ki gai', 'ki gayi', 'ki ha', 'ki had', 'ki hai', 'ki hain', 'ki halat', 'ki har', 'ki he', 'ki hesiyat', 'ki hi', 'ki hidayat', 'ki hifazat', 'ki himayat', 'ki ho', 'ki hosting', 'ki hukumat', 'ki hy', 'ki ijazat', 'ki imdad', 'ki is', 'ki izzat', 'ki ja', 'ki jab', 'ki jaga', 'ki jagah', 'ki jane', 'ki janib', 'ki jati', 'ki jaye', 'ki jis', 'ki jo', 'ki jorhi', 'ki jung', 'ki kahani', 'ki kai', 'ki kam', 'ki kaman', 'ki kami', 'ki kamiyabi', 'ki kamyabi', 'ki karkardagi', 'ki karwai', 'ki ke', 'ki khatir', 'ki khawateen', 'ki khidmat', 'ki khilaf', 'ki kia', 'ki kisi', 'ki kitab', 'ki koi', 'ki koshish', 'ki koshishon', 'ki kuch', 'ki kya', 'ki lanat', 'ki lash', 'ki lekin', 'ki list', 'ki maa', 'ki madad', 'ki majlis', 'ki malik', 'ki maqboliyat', 'ki marzi', 'ki mohabbat', 'ki mosiqi', 'ki mout', 'ki mulaqat', 'ki namaz', 'ki nasal', 'ki nazar', 'ki nazmon', 'ki numaindagi', 'ki numaiydegi', 'ki offer', 'ki osat', 'ki parwarish', 'ki pehli', 'ki peshkash', 'ki phansi', 'ki pheli', 'ki phir', 'ki policy', 'ki pori', 'ki post', 'ki qayadat', 'ki qeemat', 'ki qiyadat', 'ki quality', 'ki raah', 'ki recording', 'ki riwayat', 'ki rukun', 'ki sab', 'ki sadarat', 'ki sarbarahi', 'ki sari', 'ki saza', 'ki series', 'ki shadi', 'ki shaiyri', 'ki shakal', 'ki shakhsiyat', 'ki shanakht', 'ki shayari', 'ki shohrat', 'ki shop', 'ki siasat', 'ki sifarish', 'ki singing', 'ki siyasi', 'ki soch', 'ki soorat', 'ki sorat', 'ki surat', 'ki tadad', 'ki taleem', 'ki tamam', 'ki tameer', 'ki tanzeem', 'ki taraf', 'ki tarah', 'ki tarbiyat', 'ki tareekh', 'ki tarha', 'ki tarhan', 'ki tarikh', 'ki tasveer', 'ki tawajja', 'ki team', 'ki tehriron', 'ki thi', 'ki to', 'ki tofeeq', 'ki training', 'ki trha', 'ki umar', 'ki umer', 'ki un', 'ki upgradation', 'ki video', 'ki wafat', 'ki waja', 'ki wajah', 'ki wajha', 'ki waldah', 'ki wazarat', 'ki wife', 'ki wja', 'ki ya', 'ki yaad', 'ki yad', 'ki ye', 'ki yeh', 'ki zamanat', 'ki zaroorat', 'ki zarorat', 'ki zarurat', 'ki zimedari', 'ki zindagi', 'kia aur', 'kia baat', 'kia bat', 'kia ha', 'kia hai', 'kia hain', 'kia ho', 'kia hua', 'kia hy', 'kia kia', 'kia kr', 'kia tha', 'kia ye', 'killing ka', 'kinza ki', 'kinza ko', 'kirdar ada', 'kirdar adaa', 'kis ka', 'kis ki', 'kis ko', 'kis ne', 'kis ny', 'kis se', 'kisam ka', 'kisi aur', 'kisi bhi', 'kisi ka', 'kisi ki', 'kisi ko', 'kisi ne', 'kisi or', 'kisi se', 'kit hi', 'kitab ul', 'kitabon mein', 'kiya aur', 'kiya gaya', 'kiya hai', 'kiya hua', 'kiya is', 'kiya ja', 'kiya jata', 'kiya jaye', 'kiya jis', 'kiya jo', 'kiya ke', 'kiya kiya', 'kiya lekin', 'kiya tha', 'kiya to', 'kiya wo', 'kiye aur', 'kiye gaey', 'kiye gaye', 'kiye hain', 'ko 10', 'ko aaj', 'ko ab', 'ko aik', 'ko allah', 'ko america', 'ko american', 'ko apna', 'ko apne', 'ko apni', 'ko apny', 'ko aur', 'ko band', 'ko be', 'ko behtar', 'ko bharat', 'ko bhe', 'ko bhi', 'ko bht', 'ko bi', 'ko bohat', 'ko bol', 'ko bolo', 'ko bura', 'ko chor', 'ko dawam', 'ko de', 'ko dekh', 'ko dekha', 'ko dikha', 'ko dil', 'ko duniya', 'ko eid', 'ko general', 'ko goli', 'ko hamesha', 'ko hasil', 'ko he', 'ko hi', 'ko hidayat', 'ko in', 'ko is', 'ko jab', 'ko jo', 'ko judge', 'ko kabhi', 'ko kai', 'ko karachi', 'ko khatam', 'ko khawateen', 'ko khiraj', 'ko khud', 'ko khush', 'ko kia', 'ko kis', 'ko kisi', 'ko koi', 'ko kuch', 'ko kya', 'ko lahore', 'ko lambi', 'ko le', 'ko mazeed', 'ko mera', 'ko meri', 'ko mila', 'ko mulk', 'ko na', 'ko nahi', 'ko nai', 'ko nazar', 'ko new', 'ko or', 'ko out', 'ko paida', 'ko pakistan', 'ko pakistani', 'ko pasand', 'ko pata', 'ko peda', 'ko pta', 'ko qabool', 'ko sadar', 'ko sahi', 'ko sakht', 'ko salam', 'ko salamat', 'ko sath', 'ko saza', 'ko send', 'ko shikast', 'ko shukriya', 'ko sirf', 'ko subah', 'ko support', 'ko tag', 'ko thanks', 'ko to', 'ko tu', 'ko un', 'ko unhon', 'ko us', 'ko vote', 'ko ya', 'ko yaad', 'ko yad', 'ko ye', 'ko yeh', 'koi achi', 'koi aik', 'koi aur', 'koi baat', 'koi bat', 'koi bhi', 'koi btaye', 'koi cheez', 'koi faida', 'koi haal', 'koi kisi', 'koi masla', 'koi na', 'koi nahi', 'koi nai', 'koi nhi', 'koi ni', 'koi or', 'koi shak', 'kon ha', 'kon hai', 'kon hy', 'kon sa', 'kon se', 'koshish ki', 'kr de', 'kr dena', 'kr di', 'kr dia', 'kr diya', 'kr do', 'kr dy', 'kr ke', 'kr len', 'kr lo', 'kr ly', 'kr raha', 'kr rahi', 'kr rahy', 'kr rha', 'kr rhi', 'kr rhy', 'kr sakty', 'kr skta', 'kr skte', 'kr skti', 'kr skty', 'krna chahiye', 'krna he', 'krna tha', 'krne ka', 'krne ki', 'krne se', 'krny ka', 'krny ki', 'krny waly', 'krta hai', 'krta hy', 'krte hain', 'krti ho', 'krty hain', 'krty hn', 'krty ho', 'krty thy', 'kry ameen', 'kry ga', 'kuch arsa', 'kuch arsey', 'kuch aur', 'kuch bhi', 'kuch dair', 'kuch ho', 'kuch khas', 'kuch log', 'kuch na', 'kuch nahe', 'kuch nahi', 'kuch nai', 'kuch nhi', 'kuch ni', 'kuch or', 'kuch to', 'kuch yaad', 'kuch zyada', 'ky liye', 'kya baat', 'kya bat', 'kya hai', 'kya ho', 'kya hota', 'kya hy', 'kya kya', 'kya pta', 'kya tha', 'kyun ke', 'kyun nahi', 'lady diana', 'lag gai', 'lag gaya', 'lag raha', 'lag rahi', 'lag rha', 'laga di', 'laga tha', 'laga to', 'lagaya ja', 'lage aur', 'lage the', 'lagi hai', 'lagta ha', 'lagta hai', 'lagti hai', 'lahore ka', 'lahore ke', 'lahore ki', 'lahore mein', 'lahore qalandar', 'lahore qalandars', 'lahore se', 'lakh di', 'lakin iss', 'lala is', 'lalak jan', 'lambi umar', 'lambi umer', 'lambi zindagi', 'lanat ha', 'lanat hai', 'lanat he', 'lanat ho', 'lanat is', 'lane mein', 'lara ne', 'larki ka', 'lash baramad', 'lay kar', 'le kar', 'le kr', 'le liya', 'league aur', 'league ka', 'league ke', 'league ki', 'league mein', 'lehaz se', 'lekhna hai', 'lekin aik', 'lekin in', 'lekin is', 'lekin jab', 'lekin phir', 'lekin un', 'lekin us', 'lekin wo', 'lekin ye', 'lekin yeh', 'lena shuru', 'lene ke', 'lete hain', 'lewis ne', 'leya aur', 'leya gaya', 'leye aik', 'leye apni', 'leye bhi', 'leye unhon', 'leye ye', 'lg raha', 'lg rhi', 'lgta hai', 'li aur', 'li hai', 'li jo', 'li thi', 'lia dua', 'lia hai', 'liaquat ali', 'lihaaz se', 'likh kar', 'likha gaya', 'likha hai', 'likha hy', 'list mein', 'liy dua', 'liya aur', 'liya gaya', 'liya hai', 'liya tha', 'liye aik', 'liye apni', 'liye band', 'liye bhi', 'liye dua', 'liye duaon', 'liye hai', 'liye hum', 'liye in', 'liye inho', 'liye kaha', 'liye koi', 'liye kuch', 'liye main', 'liye muntakhib', 'liye nominate', 'liye to', 'log hain', 'log in', 'log is', 'log to', 'logo ki', 'logo ko', 'logo ny', 'logon ka', 'logon ke', 'logon ki', 'logon ko', 'logon ne', 'london mein', 'london se', 'love it', 'love you', 'low quality', 'ly dua', 'ly kr', 'lye dua', 'ma am', 'ma kiya', 'ma na', 'ma ne', 'ma sha', 'ma to', 'maa aur', 'maa baap', 'maa ke', 'maa ko', 'maa se', 'madad farma', 'madad ko', 'madad se', 'maeyno mein', 'magar in', 'magar is', 'magar wo', 'mahfooz shaheed', 'mahfuz shaheed', 'mahmood alkareem', 'mai bhi', 'mai hai', 'mai koi', 'mai yad', 'maidan mein', 'main aap', 'main aik', 'main apne', 'main apni', 'main aur', 'main baithay', 'main bhi', 'main bohat', 'main hi', 'main in', 'main is', 'main jo', 'main koi', 'main na', 'main nahi', 'main nai', 'main ne', 'main ny', 'main rakhy', 'main se', 'main shamil', 'main to', 'main yad', 'main ye', 'maine ye', 'majida rizvi', 'majmoi tor', 'major muhammad', 'major shabbir', 'malala yousafzai', 'maloom hota', 'mama ko', 'manaya jata', 'mangwaye thay', 'manzar aam', 'maqboliyat ka', 'maqsad ke', 'mar jana', 'maray murshad', 'maray murshed', 'march 1940', 'march ko', 'mard mujahid', 'mareezon aur', 'marilyn monroe', 'markaz asar', 'markazi kirdar', 'market me', 'market mein', 'market se', 'marshal law', 'martaba phir', 'martial art', 'martial law', 'masha allah', 'masha allahallah', 'mashallah allah', 'mashraqi pakistan', 'mashriqi pakistan', 'masla hal', 'master inayat', 'mat karo', 'match jeet', 'match mein', 'matches mein', 'mathira ne', 'maulana mohammed', 'mauqa mila', 'mauqey par', 'maut ki', 'maza aa', 'mazi mein', 'me aaj', 'me ap', 'me bhi', 'me bht', 'me firing', 'me he', 'me hi', 'me ho', 'me kia', 'me koi', 'me kuch', 'me kya', 'me ne', 'me police', 'me se', 'me to', 'me ye', 'meera ko', 'mehnat aur', 'mehnat kar', 'mein 10', 'mein aa', 'mein aane', 'mein aap', 'mein achi', 'mein adakari', 'mein aham', 'mein aik', 'mein all', 'mein anjuman', 'mein apna', 'mein apne', 'mein apni', 'mein app', 'mein aur', 'mein australia', 'mein aya', 'mein azam', 'mein ba', 'mein behtareen', 'mein benul', 'mein bhee', 'mein bhi', 'mein bohat', 'mein british', 'mein dafan', 'mein dakhil', 'mein dakhla', 'mein dal', 'mein dilchaspi', 'mein do', 'mein edhi', 'mein england', 'mein film', 'mein griftar', 'mein guzra', 'mein hai', 'mein hain', 'mein hamesha', 'mein har', 'mein hashim', 'mein hasil', 'mein he', 'mein hi', 'mein hissa', 'mein hone', 'mein hota', 'mein hui', 'mein hum', 'mein imran', 'mein in', 'mein inhe', 'mein inho', 'mein intikhab', 'mein is', 'mein iss', 'mein ja', 'mein jab', 'mein jahangir', 'mein javed', 'mein jaya', 'mein jo', 'mein kaam', 'mein kabhi', 'mein kae', 'mein kafi', 'mein kam', 'mein kamyab', 'mein kamyabi', 'mein karachi', 'mein khawateen', 'mein khela', 'mein khud', 'mein kia', 'mein kisi', 'mein kiya', 'mein koi', 'mein lahore', 'mein le', 'mein madad', 'mein major', 'mein maujood', 'mein meri', 'mein mqm', 'mein mulazimat', 'mein munaqid', 'mein muntaqil', 'mein muslim', 'mein mutmaeen', 'mein na', 'mein nahi', 'mein nazar', 'mein ne', 'mein new', 'mein numayan', 'mein pahonche', 'mein paida', 'mein pakistan', 'mein pakistani', 'mein pehli', 'mein pesh', 'mein peyda', 'mein pheli', 'mein punjab', 'mein qadam', 'mein rahe', 'mein rehna', 'mein release', 'mein sab', 'mein sadar', 'mein salman', 'mein say', 'mein se', 'mein shadi', 'mein shamil', 'mein shamoliyat', 'mein shaya', 'mein shirkat', 'mein sindh', 'mein sir', 'mein sirf', 'mein squash', 'mein taleem', 'mein taqseem', 'mein tehreek', 'mein the', 'mein to', 'mein tou', 'mein un', 'mein unhain', 'mein unhe', 'mein unhein', 'mein unhen', 'mein unho', 'mein unhon', 'mein urdu', 'mein us', 'mein waheed', 'mein wazeer', 'mein west', 'mein wo', 'mein woh', 'mein ye', 'mein yeh', 'mein ziyada', 'meine yeh', 'mera bhi', 'mera dil', 'mera khayal', 'mera murshad', 'mere dil', 'mere ghar', 'mere khayal', 'mere liye', 'mere murshad', 'mere pas', 'mere pass', 'mere sath', 'meri family', 'meri jan', 'meri shadi', 'meri taraf', 'meri tarf', 'meri traf', 'meri trf', 'mery liye', 'mery pas', 'mian nawaz', 'miandad ka', 'miandad ki', 'miandad ne', 'middle class', 'mien aik', 'mien bhi', 'mien inho', 'mien wo', 'mil gai', 'mil gaya', 'mil jata', 'mil jaye', 'mil kar', 'mil raha', 'mil rahy', 'mil sakta', 'mila aur', 'milay ga', 'mili hai', 'military academy', 'milta hai', 'milti hai', 'mily ga', 'minute ke', 'minute ki', 'mirza ghalib', 'miser ke', 'misr ke', 'miss shah', 'mix kr', 'mohammad ali', 'mohammad hafeez', 'mohammed ali', 'mohibullah khan', 'mohibullah ne', 'mohtarma benazir', 'mohyeddin ne', 'mohyeddin show', 'molka ahmed', 'molvi abdul', 'molvi sahib', 'monroe ke', 'moqablon mein', 'more hide', 'more than', 'morning show', 'morning shows', 'mother teresa', 'motor cycle', 'mout ka', 'movement kay', 'mqm ka', 'mqm ne', 'mri trf', 'mubarak ho', 'mubarak to', 'muhammad akram', 'muhammad chaudhry', 'muhammad khan', 'muhammad mahfooz', 'muhammad mahfuz', 'muhammad rafiq', 'muhammed rashdi', 'mujh par', 'mujh se', 'mujhe bhi', 'mujhe fakhr', 'mujhe is', 'mujhe jo', 'mujhe koi', 'mujhe to', 'mujhe yeh', 'mulazmat ke', 'mulk bhar', 'mulk ka', 'mulk ke', 'mulk ki', 'mulk ko', 'mulk me', 'mulk mein', 'mulk se', 'mumalik ke', 'mumalik mein', 'mumbai ke', 'mumkin hai', 'munasib hai', 'munir hussain', 'muntakhib hue', 'muntakhib kiya', 'muntaqil ho', 'muntaqil kar', 'muqabalon ke', 'muqable mein', 'muqablon mein', 'muqam par', 'muqarrar hue', 'muqarrar kiya', 'murad ki', 'murad ko', 'murad nay', 'murad ne', 'murshad ke', 'murshed ke', 'murshid pak', 'musalmano ke', 'musalmano ki', 'musharraf kay', 'musharraf ki', 'mushkil hai', 'mushkil tareen', 'muslim league', 'must be', 'mustaqbil ki', 'mustaqbil mein', 'mutee ur', 'mutmaeen hoon', 'muttahida qaumi', 'muzahira kiya', 'na 122', 'na aya', 'na diya', 'na he', 'na hi', 'na ho', 'na hoga', 'na hon', 'na hona', 'na hone', 'na hui', 'na kar', 'na karne', 'na karo', 'na kehna', 'na ker', 'na ki', 'na kia', 'na kiya', 'na koi', 'na kr', 'na na', 'na qabil', 'na sirf', 'na tha', 'na to', 'na tu', 'na wo', 'naam hai', 'naam ki', 'naam se', 'nadeem qasmi', 'nahein tha', 'nahi aaya', 'nahi aya', 'nahi bal', 'nahi balke', 'nahi de', 'nahi dekha', 'nahi ha', 'nahi hai', 'nahi hain', 'nahi ho', 'nahi hoga', 'nahi hogi', 'nahi hota', 'nahi hoti', 'nahi howa', 'nahi hua', 'nahi is', 'nahi kar', 'nahi karna', 'nahi karta', 'nahi karte', 'nahi ke', 'nahi ki', 'nahi kiya', 'nahi lagta', 'nahi lekin', 'nahi mil', 'nahi pata', 'nahi raha', 'nahi rahe', 'nahi tha', 'nahi thi', 'nai aaya', 'nai ata', 'nai aya', 'nai ha', 'nai hai', 'nai ho', 'nai kia', 'nai tha', 'nai ye', 'naidu ki', 'naidu ne', 'name kia', 'nasar nigari', 'naseeb frma', 'naseeb ho', 'nasir iqbal', 'naslooke sada', 'natije mein', 'national congress', 'nawa waqat', 'nawaz chor', 'nawaz dy', 'nawaz shareef', 'nawaz sharif', 'nawaza gaya', 'nawaza gea', 'nay aik', 'nay apnay', 'nay bhi', 'nay ka', 'nay pakistan', 'nay unhain', 'naya pakistan', 'nazar aati', 'nazar band', 'nazar nai', 'nazar se', 'ne 10', 'ne aap', 'ne aik', 'ne apna', 'ne apne', 'ne apni', 'ne bataya', 'ne bharat', 'ne bhi', 'ne bohat', 'ne british', 'ne chand', 'ne do', 'ne film', 'ne films', 'ne har', 'ne he', 'ne imran', 'ne in', 'ne inhe', 'ne is', 'ne jab', 'ne jis', 'ne jo', 'ne kabhi', 'ne kaha', 'ne kai', 'ne karachi', 'ne kha', 'ne khawateen', 'ne khud', 'ne ki', 'ne kisi', 'ne koi', 'ne kuch', 'ne kya', 'ne likha', 'ne mujhe', 'ne na', 'ne pakistan', 'ne pehli', 'ne phir', 'ne sindh', 'ne sirf', 'ne siyasat', 'ne squash', 'ne tamam', 'ne teen', 'ne to', 'ne un', 'ne unhein', 'ne unhen', 'ne urdu', 'ne us', 'ne ye', 'ne yeh', 'new york', 'new zealand', 'news paper', 'next episode', 'next time', 'next year', 'nezam ke', 'nhi aya', 'nhi ha', 'nhi hai', 'nhi he', 'nhi ho', 'nhi hoga', 'nhi hota', 'nhi kia', 'nhi mil', 'ni aya', 'ni ha', 'ni hai', 'ni ho', 'ni hota', 'ni hy', 'ni kia', 'ni kr', 'niazi ki', 'nikal kar', 'nine zero', 'nisar bazmi', 'nizam adal', 'no doubt', 'no more', 'noon league', 'noor jahan', 'not only', 'not out', 'november 1990', 'numaindagi kar', 'number one', 'number par', 'nurul amin', 'nusrat fateh', 'ny jo', 'ny to', 'october 1990', 'of fb', 'of luck', 'of money', 'of pakistan', 'of performance', 'of the', 'of world', 'of your', 'off stump', 'office par', 'one day', 'open final', 'open ka', 'open ke', 'open mein', 'open title', 'opposition leader', 'or 10', 'or achi', 'or agr', 'or allah', 'or ap', 'or apni', 'or arsal', 'or bhi', 'or hm', 'or hum', 'or in', 'or is', 'or jo', 'or kuch', 'or mera', 'or mere', 'or meri', 'or na', 'or pur', 'or un', 'or us', 'or wo', 'or ye', 'orangi town', 'order kia', 'os ka', 'our inke', 'our maray', 'our poray', 'out of', 'over acting', 'paas kiya', 'pagal ho', 'pahonche they', 'paida ho', 'paida hoein', 'paida hone', 'paida hoye', 'paida hue', 'paida hui', 'paida huye', 'pak ap', 'pak apko', 'pak army', 'pak bharat', 'pak foj', 'pak in', 'pak ka', 'pak ki', 'pak ko', 'pak maray', 'pakistan aane', 'pakistan aur', 'pakistan cricket', 'pakistan ka', 'pakistan kay', 'pakistan ke', 'pakistan key', 'pakistan ki', 'pakistan ko', 'pakistan main', 'pakistan me', 'pakistan mein', 'pakistan muslim', 'pakistan ne', 'pakistan people', 'pakistan se', 'pakistani awam', 'pakistani khelari', 'pakistani siasat', 'pakistani team', 'pani ki', 'paper me', 'par aap', 'par aik', 'par allah', 'par apne', 'par apni', 'par baat', 'par bhi', 'par dastakhat', 'par faiz', 'par gaye', 'par hai', 'par hain', 'par in', 'par inhe', 'par is', 'par jo', 'par kaam', 'par koi', 'par mabni', 'par majboor', 'par majbor', 'par mushtamil', 'par nahi', 'par nazar', 'par pabandi', 'par pakistan', 'par rakha', 'par salamat', 'par un', 'par us', 'par wo', 'par ye', 'par yeh', 'para tha', 'parents ko', 'parh sakty', 'parha hai', 'parhta hai', 'parta hai', 'party ka', 'party ke', 'party ki', 'party mein', 'parvaiz malik', 'parvez musharraf', 'pasand hai', 'pasand nahi', 'pasha ki', 'pass kiya', 'password mang', 'pata chal', 'pata chala', 'pata ha', 'pata hai', 'pata nahi', 'pata nai', 'pata nhi', 'pata tha', 'pehle se', 'pehli baar', 'pehli bar', 'pehli film', 'pehli shadi', 'pehly tashreef', 'people party', 'peoples party', 'per apna', 'per bhi', 'per firing', 'per pabandi', 'performance se', 'pervez musharaf', 'pervez musharraf', 'pesh karte', 'pesh ki', 'pesh kiya', 'pesh nahi', 'pesh nazar', 'peshawar ke', 'peshawar mein', 'peyda hue', 'pheli bar', 'pheli film', 'phir bhi', 'phir to', 'phir yeh', 'phr sy', 'pic me', 'picture mai', 'pir ali', 'pir pagara', 'plz is', 'plz koi', 'plz plz', 'pm nawaz', 'pmln ki', 'pocha gaya', 'police ka', 'police walo', 'police walon', 'pooray pakistan', 'poray nezam', 'pori duniya', 'pori team', 'pr bhi', 'pr firing', 'press club', 'press conference', 'price kay', 'price mein', 'pride of', 'prime minister', 'princes charles', 'product hai', 'programs mein', 'protest start', 'proud of', 'pta chal', 'pta chala', 'pta hai', 'pta nhi', 'pta ni', 'pti ka', 'pti walay', 'pti walon', 'pti waly', 'punjab assembly', 'punjab aur', 'punjab ke', 'punjab ki', 'punjab mein', 'punjab university', 'pur tashadud', 'putin ko', 'qabil zikar', 'qabool kar', 'qadam rakha', 'qaim kiya', 'qalandars love', 'qarar de', 'qarar dete', 'qarar deya', 'qarar diya', 'qareeb firing', 'qaribi markaz', 'qasmi ne', 'qaumi assembly', 'qaumi movement', 'qayadat mein', 'qayam ka', 'qayam pakistan', 'qeemat me', 'qiamat tak', 'qiyam pakistan', 'quaid azam', 'quality achi', 'quality bhee', 'quality hai', 'quality ka', 'quality se', 'question aap', 'question aik', 'quomi assembly', 'quomi satah', 'quomi team', 'raat ko', 'rab kareem', 'rab ul', 'rabta kren', 'radio pakistan', 'radio par', 'rafiq tarar', 'raghib ahsan', 'raha aur', 'raha ha', 'raha hai', 'raha hay', 'raha ho', 'raha hon', 'raha hoon', 'raha hu', 'raha hun', 'raha hy', 'raha tha', 'rahay ga', 'rahay hain', 'rahay thay', 'rahe aur', 'rahe ga', 'rahe hai', 'rahe hain', 'rahe lekin', 'rahe the', 'rahe they', 'raheel sharif', 'rahi aur', 'rahi hai', 'rahi hain', 'rahi hay', 'rahi ho', 'rahi hon', 'rahi hun', 'rahi hy', 'rahi thein', 'rahi thi', 'rahmet khan', 'rahy hai', 'rahy hain', 'rai hai', 'rajiv gandhi', 'raju rocket', 'rakh kar', 'rakha gaya', 'rakha hai', 'rakha hua', 'rakhe ameen', 'rakhne ke', 'rakhne wale', 'rakhta hai', 'rakhte hain', 'rakhte the', 'rakhti hai', 'rakhy ameen', 'ramzan ka', 'ramzan me', 'rana fawad', 'rana liaquat', 'rashdi ne', 'rashid minhas', 'rasool allah', 'rat ko', 'raza saqib', 'razi ho', 'razia sheer', 'read more', 'reh gaya', 'reham khan', 'rehmat ali', 'rehne do', 'rehne ke', 'rehta hai', 'rehte hain', 'release ho', 'release hoi', 'release hui', 'release ke', 'request ha', 'retirement ke', 'rha ha', 'rha hai', 'rha hn', 'rha ho', 'rha hun', 'rha hy', 'rha tha', 'rhe ho', 'rhi ha', 'rhi hai', 'rhi thi', 'rhy hain', 'rhy ho', 'rice ko', 'rice ne', 'ricky ponting', 'road per', 'rocky ki', 'role adaa', 'role play', 'roman catholic', 'roshan khan', 'royal college', 'roz ka', 'roza match', 'roznama jang', 'rpt jokhio', 'rukh kiya', 'rukun muntakhib', 'runs bana', 'runs banae', 'runs banaye', 'rupe ka', 'sa bat', 'saal baad', 'saal bad', 'saal ka', 'saal ke', 'saal ki', 'saal mein', 'saal se', 'saal tak', 'saamna karna', 'sab he', 'sab ka', 'sab ke', 'sab ki', 'sab ko', 'sab kuch', 'sab say', 'sab se', 'sabit hui', 'sach main', 'sada hifazat', 'sadar ghulam', 'sadar hain', 'sadar pakistan', 'saeed anwar', 'safar naama', 'safi ke', 'saghar siddiqui', 'sahab ka', 'sahab ko', 'sahab ne', 'sahi baat', 'sahi hai', 'sahi kaha', 'sahi khel', 'sahi maeyno', 'sahi se', 'sahib ke', 'sahib ki', 'sahib ne', 'sahir lodhi', 'sakta ha', 'sakta hai', 'sakta ke', 'saktay hain', 'sakte hain', 'sakti hai', 'sakti hain', 'sakti thi', 'sakty hain', 'sal ki', 'salahiyaton ke', 'salahiyaton ko', 'salamat ko', 'salamat ne', 'salamat rakhay', 'salamat rakhe', 'salamat rakhy', 'salman khan', 'samajhte hain', 'same here', 'same to', 'samet apny', 'samjha jata', 'samjhi jati', 'samna karna', 'saqib raza', 'sar anjam', 'sargarmiyon mein', 'sarhad ke', 'sarojini naidu', 'satah ke', 'satah par', 'sath bhi', 'sath he', 'sath hi', 'sath in', 'sath is', 'sath kaam', 'sath le', 'sath mein', 'sath mil', 'sath sath', 'sath un', 'saudi arab', 'sawal ke', 'say aik', 'say pehly', 'saya hum', 'sb ka', 'sb ki', 'sb ko', 'sb se', 'sb sy', 'school aur', 'school ke', 'school ki', 'school mein', 'school se', 'score kiye', 'screen par', 'se 10', 'se 24', 'se acha', 'se achi', 'se aik', 'se alehda', 'se ap', 'se apna', 'se apne', 'se aur', 'se baat', 'se bacha', 'se bahar', 'se bara', 'se barha', 'se barhe', 'se barhi', 'se bari', 'se behtar', 'se bhi', 'se bohat', 'se daro', 'se do', 'se dua', 'se ek', 'se guraiz', 'se hai', 'se hashim', 'se hasil', 'se he', 'se hi', 'se hijrat', 'se ho', 'se hui', 'se in', 'se inkar', 'se is', 'se jo', 'se kaam', 'se kabhi', 'se kaha', 'se kam', 'se khitab', 'se khush', 'se ki', 'se kiya', 'se koi', 'se kooch', 'se kuch', 'se laga', 'se le', 'se lekar', 'se logon', 'se madad', 'se main', 'se mehroom', 'se mein', 'se mera', 'se meri', 'se milne', 'se mujhe', 'se mulaqat', 'se mutalliq', 'se mutasir', 'se na', 'se nahi', 'se nawaza', 'se nikal', 'se or', 'se pakistan', 'se pehle', 'se pehley', 'se phele', 'se phone', 'se pocha', 'se pyar', 'se qabal', 'se rabta', 'se shadi', 'se shakhs', 'se shaks', 'se taleem', 'se talluq', 'se taluq', 'se tha', 'se to', 'se un', 'se unhein', 'se unhon', 'se us', 'se wabasta', 'se wo', 'se ye', 'se yeh', 'se zaid', 'se zaiyd', 'se zayada', 'se ziada', 'se ziyada', 'se ziyadah', 'se zyada', 'secretary bhi', 'sehat or', 'selma lagerlof', 'send kr', 'series mein', 'sha allah', 'shabbir sharif', 'shadi ka', 'shadi kar', 'shadi ke', 'shadi ki', 'shafay ko', 'shahbaz sharif', 'shaheed ho', 'shaheed ke', 'shaheed ki', 'shaheed ne', 'shaheed suhrawardy', 'shahid afridi', 'shahid khan', 'shahrukh khan', 'shakal mein', 'shakhs janbahaq', 'shakhsiyat ke', 'shakhsiyat ki', 'shaks janbahaq', 'shaks ki', 'shaks zakhmi', 'shame on', 'shame shame', 'shamil hai', 'shamil hain', 'shamil ho', 'shamil kar', 'shamil kiya', 'shamil the', 'shamoliyat ikhteyar', 'shanawaz bhutto', 'sharam karo', 'sharif aur', 'sharif ka', 'sharif kay', 'sharif ki', 'sharif ko', 'sharif nay', 'sharif ne', 'she is', 'sheer khan', 'shehar me', 'shehar mein', 'sheikh ne', 'shikar ho', 'shikast di', 'shikayat nahi', 'shirkat ke', 'shirkat ki', 'shohrat hasil', 'shop kaha', 'should be', 'show ka', 'show ke', 'show ko', 'show main', 'shukar hai', 'shukriya ada', 'shuru ho', 'shuru kar', 'shuru ki', 'shuru kiya', 'shuru se', 'siasat mein', 'silsila jari', 'silsila shuru', 'silsilay mein', 'silsile mein', 'silver screen', 'simi final', 'sindh assembly', 'sindh govt', 'sindh kay', 'sindh ke', 'sindh ki', 'sindh ko', 'sindh me', 'sindh mein', 'singing ki', 'sir abdullah', 'sir ap', 'sir hashim', 'sir ko', 'sir syed', 'sirf aik', 'sirf itna', 'siyasat ka', 'siyasat ke', 'siyasat mein', 'siyasat se', 'size ka', 'skta hai', 'skta hy', 'skte hain', 'skty hn', 'slow hai', 'so much', 'so true', 'soba sarhad', 'soch lo', 'socha tha', 'social media', 'song hai', 'songs ki', 'sonia gandhi', 'soorat mein', 'sorat haal', 'spielberg ne', 'squash ka', 'squash ke', 'squash ki', 'squash mein', 'squash se', 'sri lanka', 'stadiums ki', 'stage dramas', 'stage par', 'stallone ke', 'stallone ko', 'stallone ne', 'star ban', 'star of', 'steel mills', 'steven seagal', 'steven spielberg', 'story of', 'sub ka', 'sub ko', 'sub say', 'sub se', 'sub sy', 'subhan allah', 'such me', 'sum ameen', 'suma ameen', 'suna hai', 'super hit', 'super star', 'supreme court', 'sy bara', 'sy bhi', 'sy pehly', 'sy shadi', 'sy ziada', 'sylvester stallone', 'ta ke', 'tab bhi', 'tabah ho', 'tadad mein', 'tag karo', 'tag kia', 'tag kr', 'tahum is', 'tak aanay', 'tak aap', 'tak is', 'tak ja', 'tak ke', 'tak mehdod', 'tak na', 'tak nahi', 'tak pohanch', 'tak pohanchne', 'tak wo', 'taleem hasil', 'taleem ke', 'taleem mukammal', 'talib ilm', 'talib ilmi', 'talluq hai', 'talluq rakhne', 'tamam tar', 'tanqeed ka', 'tanz mazah', 'taqreeb mein', 'taraf bhi', 'taraf hai', 'taraf say', 'taraf se', 'taraf sy', 'tarah ka', 'tarah ke', 'taraqi urdu', 'tarbiyat hasil', 'tareekh mein', 'tarf se', 'tarf sy', 'target killing', 'tarikh mein', 'tartan track', 'tasbeeh khana', 'tashadud waqiat', 'tashreef layen', 'taur par', 'teachers ko', 'team ka', 'team ke', 'team ki', 'team ko', 'team mein', 'tehreek ke', 'tehreek mein', 'tehreek pakistan', 'tehriron mein', 'tehseen pesh', 'tell me', 'telugu film', 'tere liye', 'teresa ki', 'test match', 'test matches', 'test mein', 'tezi se', 'tha ap', 'tha aur', 'tha is', 'tha jab', 'tha jis', 'tha jo', 'tha kay', 'tha ke', 'tha kuch', 'tha kyun', 'tha lakin', 'tha lekin', 'tha magar', 'tha na', 'tha or', 'tha to', 'tha us', 'tha wo', 'tha ya', 'tha yeh', 'thank you', 'thanks bol', 'thanks bolna', 'thanks lot', 'thanks to', 'thay aur', 'the aur', 'the best', 'the day', 'the is', 'the jab', 'the jo', 'the ke', 'the lekin', 'the list', 'the to', 'the un', 'the world', 'theek hai', 'thein aur', 'they are', 'they aur', 'they ke', 'they lakin', 'they magar', 'thi aur', 'thi jab', 'thi jis', 'thi jo', 'thi kal', 'thi ke', 'thi lekin', 'thi or', 'thi to', 'thi ye', 'thin aur', 'thin lekin', 'third class', 'this is', 'thora sa', 'tm log', 'tmam alloulad', 'to aap', 'to ab', 'to acha', 'to aik', 'to ap', 'to apni', 'to baat', 'to be', 'to bht', 'to bohat', 'to bs', 'to do', 'to ese', 'to hai', 'to hain', 'to hum', 'to imran', 'to in', 'to inhe', 'to inho', 'to is', 'to kabhi', 'to kch', 'to kia', 'to koi', 'to kuch', 'to kya', 'to lol', 'to main', 'to me', 'to mein', 'to na', 'to nahi', 'to nai', 'to nhi', 'to ni', 'to pakistan', 'to pata', 'to phir', 'to phr', 'to pta', 'to sab', 'to sirf', 'to tag', 'to un', 'to uncle', 'to unhon', 'to us', 'to wo', 'to woh', 'to ye', 'to yeh', 'to you', 'top of', 'tor par', 'tor per', 'tor pr', 'torsam khan', 'tou hai', 'tou yeh', 'tour par', 'tour per', 'tournament mein', 'town me', 'track par', 'traf se', 'traffic police', 'training aur', 'training ka', 'trf se', 'trf sy', 'tu bhi', 'tu bht', 'tu hai', 'tu hum', 'tu khud', 'tu ny', 'tu phir', 'tu to', 'tum bhi', 'tum ho', 'tum ko', 'tum log', 'tum logon', 'tum ny', 'tum per', 'tum to', 'tumari shadi', 'tv channels', 'tv ke', 'tv ko', 'tv par', 'type ka', 'ubqari ka', 'ubqari ki', 'ubqari team', 'ul aqwami', 'ul baldan', 'ul haq', 'umar akmal', 'umar mein', 'umeed hai', 'umer akmal', 'umer mein', 'un ka', 'un kay', 'un ke', 'un key', 'un ki', 'un ko', 'un mein', 'un par', 'un se', 'uncle anti', 'uncle aunty', 'uncle ko', 'unho ne', 'unhon nay', 'unhon ne', 'unhon ney', 'unhoon ne', 'university ke', 'university mein', 'university se', 'unwaan se', 'up gradation', 'ur rehman', 'urdu adab', 'urdu aur', 'urdu ke', 'urdu ki', 'us dauran', 'us din', 'us dor', 'us ka', 'us ke', 'us ki', 'us ko', 'us ky', 'us main', 'us mein', 'us ne', 'us ny', 'us par', 'us se', 'us sy', 'us waqat', 'us waqt', 'use kar', 'use kr', 'usi dauran', 'uss waqt', 'utha kar', 'very bad', 'very good', 'very nice', 'video ka', 'vladimir putin', 'vote de', 'waghera shamil', 'wah wah', 'wahan se', 'waheed murad', 'waja say', 'waja se', 'wajah hai', 'wajah se', 'wajah ye', 'wala ha', 'wala hai', 'wala scene', 'waldain ke', 'wale is', 'wali bat', 'wali film', 'wali hai', 'wali zindge', 'walid ka', 'walid ke', 'walid ki', 'walo ka', 'walo ki', 'walo ko', 'walon ka', 'walon ke', 'walon ki', 'walon ko', 'walon ne', 'waly ko', 'waly naslooke', 'want to', 'wapsi par', 'waqat ki', 'waqat tak', 'waqf kar', 'waqia pesh', 'waqiat me', 'waqt ka', 'waqt ke', 'waqt tak', 'wasim akram', 'waste of', 'watan ke', 'watan wapsi', 'watt ki', 'wazarat uzma', 'wazeer aala', 'wazeer azam', 'wazir azam', 'we are', 'we will', 'well done', 'wese hi', 'west indies', 'what about', 'what is', 'who is', 'why this', 'wickets hasil', 'will be', 'wja se', 'wo aaj', 'wo ab', 'wo aik', 'wo apna', 'wo apne', 'wo apni', 'wo bhi', 'wo bohat', 'wo din', 'wo har', 'wo he', 'wo is', 'wo jo', 'wo khud', 'wo kisi', 'wo kon', 'wo kya', 'wo log', 'wo ni', 'wo pakistan', 'wo pehle', 'wo sab', 'wo to', 'wo tu', 'wo us', 'woh aik', 'woh apne', 'woh bhi', 'woh khud', 'woh pakistan', 'woh to', 'wohi hai', 'world cup', 'world open', 'world record', 'ya allah', 'ya ap', 'ya na', 'ya nahi', 'ya ni', 'ya phir', 'ya qubi', 'ya rab', 'ya to', 'ya tu', 'ya wo', 'yaad aa', 'yad aya', 'yad rakhy', 'yahan se', 'yahan tak', 'yahya khan', 'yaqeen hai', 'yar ye', 'ye aik', 'ye ap', 'ye aunty', 'ye baat', 'ye bat', 'ye bhi', 'ye dekho', 'ye din', 'ye drama', 'ye film', 'ye hai', 'ye hi', 'ye ho', 'ye jo', 'ye kaam', 'ye kb', 'ye ke', 'ye kia', 'ye kiya', 'ye koi', 'ye kon', 'ye kya', 'ye log', 'ye meri', 'ye na', 'ye nahi', 'ye pakistan', 'ye post', 'ye sab', 'ye sb', 'ye tha', 'ye to', 'ye tou', 'ye tu', 'ye wo', 'yeh aezaaz', 'yeh aik', 'yeh baat', 'yeh bat', 'yeh bhi', 'yeh bilkul', 'yeh bohat', 'yeh dono', 'yeh drama', 'yeh film', 'yeh hai', 'yeh khud', 'yeh log', 'yeh sab', 'yeh to', 'yeh tou', 'yeh tu', 'yeh wo', 'yehi haal', 'yehi nahi', 'yehi wajah', 'you are', 'you for', 'you lahore', 'you so', 'you too', 'your support', 'yun to', 'zaban mein', 'zabanon mein', 'zabardast hai', 'zahir hai', 'zakhmi hue', 'zamana tha', 'zamane mein', 'zardari ko', 'zardari ne', 'zaroorat hai', 'zarorat hai', 'zarorat hoti', 'zarorat nahi', 'zarori hai', 'zarurat hai', 'zealand ke', 'zehan mein', 'zia mohyeddin', 'zia ul', 'zikar hain', 'zinda bad', 'zindagi aur', 'zindagi ka', 'zindagi ke', 'zindagi ki', 'zindagi ko', 'zindagi mein', 'zindagi se', 'zindge liye', 'zindgi atta', 'ziyadah mutasir', 'ziyadah tar', 'zulfiqar ali']\n",
      "[[0. 0. 0. ... 0. 0. 0.]\n",
      " [0. 0. 0. ... 0. 0. 0.]\n",
      " [0. 0. 0. ... 0. 0. 0.]\n",
      " ...\n",
      " [0. 0. 0. ... 0. 0. 0.]\n",
      " [0. 0. 0. ... 0. 0. 0.]\n",
      " [0. 0. 0. ... 0. 0. 0.]]\n"
     ]
    }
   ],
   "source": [
    "reviews = list(dataset.Review.astype('U'))\n",
    "from sklearn.feature_extraction.text import TfidfVectorizer\n",
    "\n",
    "vectorizer = TfidfVectorizer(max_features=5000, ngram_range = (2,2))\n",
    "X = vectorizer.fit_transform(reviews).toarray()\n",
    "print(vectorizer.get_feature_names())\n",
    "print(X)\n"
   ]
  },
  {
   "cell_type": "markdown",
   "metadata": {},
   "source": [
    "## Creating Train Test Split"
   ]
  },
  {
   "cell_type": "code",
   "execution_count": 5,
   "metadata": {},
   "outputs": [],
   "source": [
    "y = dataset.iloc[:, 1] # input labels\n",
    "from sklearn.model_selection import train_test_split\n",
    "X_train, X_test, y_train, y_test = train_test_split(X, y, test_size = 0.2)"
   ]
  },
  {
   "cell_type": "markdown",
   "metadata": {},
   "source": [
    "### ML Models for Classification"
   ]
  },
  {
   "cell_type": "code",
   "execution_count": 6,
   "metadata": {},
   "outputs": [],
   "source": [
    "def run_algorithm(classifier, X_train, X_test, y_train, y_test):\n",
    "    classifier.fit(X_train, y_train)\n",
    "\n",
    "    y_pred = classifier.predict(X_test)\n",
    "\n",
    "    # Evaluation Metrix \n",
    "    from sklearn.metrics import accuracy_score\n",
    "    from sklearn.metrics import confusion_matrix\n",
    "    from sklearn.metrics import f1_score\n",
    "    from sklearn.metrics import precision_score\n",
    "    from sklearn.metrics import recall_score\n",
    "    accuracy_N = accuracy_score(y_test, y_pred)\n",
    "\n",
    "    print(\"Confusion Matrix:\\n\",confusion_matrix(y_test, y_pred),\"\\n\")\n",
    "\n",
    "    print(\"The accuracy score: \",accuracy_N*100)\n",
    "    f1_score_N = f1_score(y_test, y_pred, average = 'weighted')\n",
    "    print(\"F1 Score: \", f1_score_N*100)\n",
    "    precision = precision_score(y_test, y_pred, average='weighted')\n",
    "    print(\"The Precision Score: \", precision*100)\n",
    "    recall = recall_score(y_test, y_pred, average='weighted')\n",
    "    print(\"The Recall Score: \", recall*100)\n",
    "    "
   ]
  },
  {
   "cell_type": "code",
   "execution_count": 7,
   "metadata": {},
   "outputs": [
    {
     "name": "stdout",
     "output_type": "stream",
     "text": [
      "->Naive Bayes with TF-IDF Vectors using Bi-Gram and top 800 features\n",
      "\n",
      "20% Testing Data | 80% Training Data\n",
      "Confusion Matrix:\n",
      " [[ 861  127   95]\n",
      " [1202  398  180]\n",
      " [ 544  199  440]] \n",
      "\n",
      "The accuracy score:  41.99209095402867\n",
      "F1 Score:  40.033114089281845\n",
      "The Precision Score:  51.01791713071424\n",
      "The Recall Score:  41.99209095402867\n"
     ]
    }
   ],
   "source": [
    "# using Naive Bayes\n",
    "from sklearn.naive_bayes import GaussianNB\n",
    "print(\"->Naive Bayes with TF-IDF Vectors using Bi-Gram and top 800 features\\n\")\n",
    "print(\"20% Testing Data | 80% Training Data\")\n",
    "classifier = GaussianNB()\n",
    "run_algorithm(classifier, X_train, X_test, y_train, y_test)"
   ]
  },
  {
   "cell_type": "code",
   "execution_count": 8,
   "metadata": {},
   "outputs": [
    {
     "name": "stdout",
     "output_type": "stream",
     "text": [
      "->Random Forest with TF-IDF Vectors bi-gram and top 800 features\n",
      "\n",
      "20% Testing Data | 80% Training Data\n"
     ]
    },
    {
     "name": "stderr",
     "output_type": "stream",
     "text": [
      "C:\\Users\\jumsh\\Anaconda3\\lib\\site-packages\\sklearn\\ensemble\\forest.py:245: FutureWarning: The default value of n_estimators will change from 10 in version 0.20 to 100 in 0.22.\n",
      "  \"10 in version 0.20 to 100 in 0.22.\", FutureWarning)\n"
     ]
    },
    {
     "name": "stdout",
     "output_type": "stream",
     "text": [
      "Confusion Matrix:\n",
      " [[ 304  646  133]\n",
      " [ 183 1387  210]\n",
      " [ 166  571  446]] \n",
      "\n",
      "The accuracy score:  52.817597627286204\n",
      "F1 Score:  50.43781060713333\n",
      "The Precision Score:  52.422245416869785\n",
      "The Recall Score:  52.817597627286204\n"
     ]
    }
   ],
   "source": [
    "# using Random Forest\n",
    "from sklearn.ensemble import RandomForestClassifier\n",
    "print(\"->Random Forest with TF-IDF Vectors bi-gram and top 800 features\\n\")\n",
    "print(\"20% Testing Data | 80% Training Data\")\n",
    "classifier = RandomForestClassifier()\n",
    "run_algorithm(classifier, X_train, X_test, y_train, y_test)"
   ]
  },
  {
   "cell_type": "code",
   "execution_count": 9,
   "metadata": {},
   "outputs": [
    {
     "name": "stdout",
     "output_type": "stream",
     "text": [
      "->Adboost with TF-IDF Vectors bi-gram and top 800 features\n",
      "\n",
      "20% Testing Data | 80% Training Data\n",
      "Confusion Matrix:\n",
      " [[ 306  634  143]\n",
      " [ 185 1381  214]\n",
      " [ 142  583  458]] \n",
      "\n",
      "The accuracy score:  53.01532377656946\n",
      "F1 Score:  50.70614196781364\n",
      "The Precision Score:  52.75629454338699\n",
      "The Recall Score:  53.01532377656946\n"
     ]
    }
   ],
   "source": [
    "# using Adboost\n",
    "from sklearn.ensemble import AdaBoostClassifier\n",
    "print(\"->Adboost with TF-IDF Vectors bi-gram and top 800 features\\n\")\n",
    "print(\"20% Testing Data | 80% Training Data\")\n",
    "clf = AdaBoostClassifier(n_estimators=100, random_state=0)\n",
    "run_algorithm(classifier, X_train, X_test, y_train, y_test)"
   ]
  },
  {
   "cell_type": "code",
   "execution_count": 10,
   "metadata": {
    "scrolled": true
   },
   "outputs": [
    {
     "name": "stdout",
     "output_type": "stream",
     "text": [
      "->KNN with TF-IDF Vectors bi-gram and top 800 features\n",
      "\n",
      "20% Testing Data | 80% Training Data\n",
      "Confusion Matrix:\n",
      " [[ 295  646  142]\n",
      " [ 183 1388  209]\n",
      " [ 142  556  485]] \n",
      "\n",
      "The accuracy score:  53.583786455758776\n",
      "F1 Score:  51.26757029307713\n",
      "The Precision Score:  53.27541407870173\n",
      "The Recall Score:  53.583786455758776\n"
     ]
    }
   ],
   "source": [
    "#Using KNN\n",
    "from sklearn.neighbors import KNeighborsClassifier\n",
    "print(\"->KNN with TF-IDF Vectors bi-gram and top 800 features\\n\")\n",
    "print(\"20% Testing Data | 80% Training Data\")\n",
    "clf =  KNeighborsClassifier(n_neighbors=3)\n",
    "run_algorithm(classifier, X_train, X_test, y_train, y_test)"
   ]
  },
  {
   "cell_type": "code",
   "execution_count": null,
   "metadata": {},
   "outputs": [],
   "source": []
  }
 ],
 "metadata": {
  "kernelspec": {
   "display_name": "Python 3",
   "language": "python",
   "name": "python3"
  },
  "language_info": {
   "codemirror_mode": {
    "name": "ipython",
    "version": 3
   },
   "file_extension": ".py",
   "mimetype": "text/x-python",
   "name": "python",
   "nbconvert_exporter": "python",
   "pygments_lexer": "ipython3",
   "version": "3.7.4"
  }
 },
 "nbformat": 4,
 "nbformat_minor": 2
}
