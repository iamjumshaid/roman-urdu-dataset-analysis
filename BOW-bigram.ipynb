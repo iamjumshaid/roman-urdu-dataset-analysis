{
 "cells": [
  {
   "cell_type": "markdown",
   "metadata": {},
   "source": [
    "### Analyzing  Data"
   ]
  },
  {
   "cell_type": "code",
   "execution_count": 1,
   "metadata": {},
   "outputs": [],
   "source": [
    "#Libraries\n",
    "from pandas import read_csv\n",
    "import matplotlib.pyplot as plt\n",
    "import numpy as np\n",
    "import pandas as pd\n",
    "import matplotlib.pyplot as plt\n",
    "from pandas.plotting import scatter_matrix\n",
    "import matplotlib as matplotlib\n",
    "import matplotlib.lines as mlines\n",
    "import sklearn"
   ]
  },
  {
   "cell_type": "code",
   "execution_count": 2,
   "metadata": {
    "scrolled": true
   },
   "outputs": [
    {
     "data": {
      "text/html": [
       "<div>\n",
       "<style scoped>\n",
       "    .dataframe tbody tr th:only-of-type {\n",
       "        vertical-align: middle;\n",
       "    }\n",
       "\n",
       "    .dataframe tbody tr th {\n",
       "        vertical-align: top;\n",
       "    }\n",
       "\n",
       "    .dataframe thead th {\n",
       "        text-align: right;\n",
       "    }\n",
       "</style>\n",
       "<table border=\"1\" class=\"dataframe\">\n",
       "  <thead>\n",
       "    <tr style=\"text-align: right;\">\n",
       "      <th></th>\n",
       "      <th>Review</th>\n",
       "      <th>Sentiment</th>\n",
       "    </tr>\n",
       "  </thead>\n",
       "  <tbody>\n",
       "    <tr>\n",
       "      <td>0</td>\n",
       "      <td>Sai kha ya her kisi kay bus ki bat nhi hai lak...</td>\n",
       "      <td>Positive</td>\n",
       "    </tr>\n",
       "    <tr>\n",
       "      <td>1</td>\n",
       "      <td>sahi bt h</td>\n",
       "      <td>Positive</td>\n",
       "    </tr>\n",
       "    <tr>\n",
       "      <td>2</td>\n",
       "      <td>Kya bt hai,</td>\n",
       "      <td>Positive</td>\n",
       "    </tr>\n",
       "    <tr>\n",
       "      <td>3</td>\n",
       "      <td>Wah je wah</td>\n",
       "      <td>Positive</td>\n",
       "    </tr>\n",
       "    <tr>\n",
       "      <td>4</td>\n",
       "      <td>Are wha kaya bat hai</td>\n",
       "      <td>Positive</td>\n",
       "    </tr>\n",
       "  </tbody>\n",
       "</table>\n",
       "</div>"
      ],
      "text/plain": [
       "                                              Review Sentiment\n",
       "0  Sai kha ya her kisi kay bus ki bat nhi hai lak...  Positive\n",
       "1                                          sahi bt h  Positive\n",
       "2                                        Kya bt hai,  Positive\n",
       "3                                         Wah je wah  Positive\n",
       "4                               Are wha kaya bat hai  Positive"
      ]
     },
     "execution_count": 2,
     "metadata": {},
     "output_type": "execute_result"
    }
   ],
   "source": [
    "url = \"dataset.csv\"\n",
    "dataset = read_csv(url)\n",
    "dataset = dataset.iloc[: , :2]\n",
    "dataset.dropna()\n",
    "dataset.head(5)"
   ]
  },
  {
   "cell_type": "code",
   "execution_count": 3,
   "metadata": {
    "scrolled": false
   },
   "outputs": [
    {
     "name": "stdout",
     "output_type": "stream",
     "text": [
      "Number of data points:  40458\n",
      "Sentiment\n",
      "Negative    5287\n",
      "Neutral     8929\n",
      "Positive    6013\n",
      "dtype: int64\n"
     ]
    }
   ],
   "source": [
    "print(\"Number of data points: \",dataset.size)\n",
    "print(dataset.groupby('Sentiment').size())"
   ]
  },
  {
   "cell_type": "markdown",
   "metadata": {},
   "source": [
    "## Creating TF-IDF Vectors"
   ]
  },
  {
   "cell_type": "code",
   "execution_count": 4,
   "metadata": {
    "scrolled": true
   },
   "outputs": [
    {
     "name": "stdout",
     "output_type": "stream",
     "text": [
      "['aaj bhi', 'aap ka', 'aap ke', 'aap ki', 'aap ko', 'aap ne', 'aata hai', 'ab tak', 'ab to', 'abdul haq', 'abdullah haroon', 'abhi tak', 'abid ali', 'acha hai', 'acha laga', 'achi hai', 'achi quality', 'adnan ansar', 'aik aur', 'aik bar', 'aik din', 'aik saal', 'aisa hi', 'aj kal', 'akram shaheed', 'ali bhutto', 'ali khan', 'all india', 'allah aap', 'allah allah', 'allah ap', 'allah apko', 'allah in', 'allah ka', 'allah ki', 'allah pak', 'altaf hussain', 'ameen ameen', 'ansar gujjar', 'anti ko', 'ap ka', 'ap ki', 'ap ko', 'ap logo', 'ap ne', 'ap ny', 'ap se', 'apne career', 'apni zindagi', 'app ko', 'app nay', 'assembly ke', 'ata hai', 'ata kary', 'attaullah esakhelvi', 'aunty ka', 'aunty ko', 'aur aik', 'aur apne', 'aur apni', 'aur in', 'aur is', 'aur isi', 'aur na', 'aur pakistan', 'aur phir', 'aur un', 'aur us', 'aur wo', 'aur ye', 'awam ka', 'awam ko', 'ayub khan', 'azam khan', 'baat hai', 'baat nahi', 'bachon ko', 'bad mein', 'bad wo', 'badshah salamat', 'bal ke', 'bana kar', 'baras ki', 'bare mein', 'barey mein', 'bat ha', 'bat hai', 'bata dain', 'bazmi sahib', 'benazir bhutto', 'bhar mein', 'bhi aik', 'bhi apni', 'bhi hai', 'bhi hain', 'bhi hasil', 'bhi in', 'bhi is', 'bhi nahi', 'bhi shamil', 'bhi un', 'bht acha', 'bht bht', 'bhutto ki', 'bilkul sahi', 'bilquis edhi', 'bohat acha', 'bohat se', 'box office', 'british open', 'bushra ansari', 'career ka', 'career ke', 'ch adnan', 'chief justice', 'chor kar', 'chuke hain', 'coca cola', 'college mein', 'condoleezza rice', 'cricket mein', 'daur mein', 'dekh kar', 'deta hai', 'dete hain', 'deya gaya', 'di gai', 'di hai', 'dil ki', 'diya aur', 'diya gaya', 'diya tha', 'dua kar', 'dua ki', 'duniya bhar', 'duniya ke', 'duniya mein', 'dy ameen', 'edhi foundation', 'eee eee', 'eid mubarak', 'farooq sheikh', 'film ke', 'film mein', 'filmon mein', 'films mein', 'final mein', 'firing se', 'gai aur', 'gai hai', 'gaya aur', 'gaya hai', 'gaya ke', 'gaya tha', 'gaye aur', 'gaye hain', 'good good', 'ha ha', 'ha or', 'ha ya', 'ha ye', 'had tak', 'hai ab', 'hai allah', 'hai ap', 'hai aur', 'hai bhai', 'hai hum', 'hai in', 'hai is', 'hai jab', 'hai jis', 'hai jo', 'hai kay', 'hai ke', 'hai koi', 'hai lekin', 'hai main', 'hai na', 'hai or', 'hai to', 'hai wo', 'hai ya', 'hai ye', 'hai yeh', 'hain aur', 'hain is', 'hain jo', 'hain ke', 'hain lekin', 'hain na', 'hain to', 'hain wo', 'haq mein', 'hashim khan', 'hasil hai', 'hasil kar', 'hasil karne', 'hasil ki', 'hasil kiya', 'hawale se', 'he is', 'he nahi', 'helen keller', 'hesiyat se', 'hi hai', 'hi nahi', 'hi nhi', 'high school', 'hissa liya', 'ho ap', 'ho chuke', 'ho chuki', 'ho ga', 'ho gae', 'ho gaey', 'ho gai', 'ho gaya', 'ho gaye', 'ho gi', 'ho gya', 'ho jata', 'ho jati', 'ho jay', 'ho jaye', 'ho kar', 'ho raha', 'ho rahi', 'ho rha', 'ho sakta', 'ho to', 'ho ya', 'hona chahiye', 'hone ka', 'hone ke', 'hone ki', 'hone wale', 'hone wali', 'hota ha', 'hota hai', 'hota hy', 'hota tha', 'hote hain', 'hoti hai', 'hua hai', 'hua tha', 'hue aur', 'hui hai', 'hum ne', 'hussain bhatti', 'hussain ki', 'hussain shaheed', 'ikhteyar kar', 'imran khan', 'in dono', 'in ka', 'in kay', 'in ke', 'in ki', 'in ko', 'in mein', 'in se', 'in the', 'inayat hussain', 'india muslim', 'inho ne', 'intekhabat mein', 'intikhab alam', 'iqbal bano', 'is baat', 'is film', 'is ka', 'is ke', 'is ki', 'is ko', 'is leye', 'is liye', 'is mein', 'is par', 'is se', 'is tarah', 'is tarha', 'is waqat', 'isi liye', 'iss kay', 'ja raha', 'ja sakta', 'jab ke', 'jab tak', 'jab wo', 'jahan tak', 'jahangir khan', 'janib se', 'jata hai', 'jata tha', 'jate hain', 'jati hai', 'javed miandad', 'jaya prada', 'jaye ga', 'jerry lewis', 'jin ki', 'jin mein', 'jis ka', 'jis ke', 'jis ki', 'jis mein', 'jis ne', 'jis se', 'johnny depp', 'ka aaghaz', 'ka agaz', 'ka aghaz', 'ka aik', 'ka bhi', 'ka dil', 'ka din', 'ka elaan', 'ka elan', 'ka faisla', 'ka hai', 'ka hissa', 'ka kaam', 'ka kehna', 'ka khayal', 'ka koi', 'ka mauqa', 'ka naam', 'ka nam', 'ka name', 'ka rukh', 'ka sab', 'ka samna', 'ka sath', 'ka saya', 'ka shikar', 'ka shumar', 'ka silsila', 'ka ye', 'kaam karne', 'kaam kiya', 'kabhi nahi', 'kaha hai', 'kaha jata', 'kaha ke', 'kaha tha', 'kamyabi hasil', 'kar deya', 'kar di', 'kar diya', 'kar kay', 'kar ke', 'kar li', 'kar liya', 'kar raha', 'kar rahe', 'kar rahi', 'kar sakta', 'karachi mein', 'karne ka', 'karne ke', 'karne ki', 'karta hai', 'karte hain', 'karte hue', 'karte the', 'kary ameen', 'kay baad', 'kay liye', 'kay sath', 'ke aap', 'ke aik', 'ke baad', 'ke bad', 'ke bare', 'ke barey', 'ke bawajod', 'ke bawajood', 'ke career', 'ke darmiyan', 'ke dauran', 'ke doran', 'ke elawa', 'ke final', 'ke ghar', 'ke hawale', 'ke ilawa', 'ke in', 'ke is', 'ke jab', 'ke johar', 'ke khilaaf', 'ke khilaf', 'ke leye', 'ke liye', 'ke main', 'ke mutabiq', 'ke naam', 'ke samne', 'ke sath', 'ke taur', 'ke tehat', 'ke tor', 'ke un', 'ke walid', 'ke wo', 'ke ye', 'ke zariye', 'kehna hai', 'khan aur', 'khan ka', 'khan ke', 'khan ki', 'khan ko', 'khan ne', 'khan se', 'khatam ho', 'khawateen ki', 'khud ko', 'ki acting', 'ki aik', 'ki aur', 'ki awaz', 'ki baat', 'ki bat', 'ki beti', 'ki bhi', 'ki bunyad', 'ki dua', 'ki duniya', 'ki film', 'ki films', 'ki gai', 'ki hai', 'ki hesiyat', 'ki hifazat', 'ki ijazat', 'ki is', 'ki jaga', 'ki janib', 'ki kahani', 'ki khidmat', 'ki koi', 'ki koshish', 'ki madad', 'ki pehli', 'ki qayadat', 'ki quality', 'ki sab', 'ki shadi', 'ki shakhsiyat', 'ki tadad', 'ki taleem', 'ki taraf', 'ki tarah', 'ki tarha', 'ki team', 'ki thi', 'ki to', 'ki umar', 'ki umer', 'ki waja', 'ki wajah', 'ki zarorat', 'ki zindagi', 'kia hai', 'kirdar ada', 'kisi aur', 'kisi bhi', 'kisi ki', 'kisi ko', 'kit hi', 'kiya aur', 'kiya gaya', 'kiya hai', 'kiya jata', 'kiya jaye', 'kiya jis', 'kiya ke', 'kiya tha', 'ko aik', 'ko apna', 'ko apne', 'ko apni', 'ko aur', 'ko bhi', 'ko is', 'ko jo', 'ko koi', 'ko lambi', 'ko pakistan', 'ko salam', 'ko tag', 'ko thanks', 'ko vote', 'ko ye', 'koi bhi', 'kon sa', 'koshish ki', 'kr dia', 'kr rha', 'krny ka', 'krta hai', 'kuch nahi', 'kyun ke', 'lagta hai', 'lahore ki', 'lahore mein', 'lahore qalandars', 'lalak jan', 'lanat ho', 'lash baramad', 'le kar', 'league ke', 'league ki', 'lekin is', 'liaquat ali', 'liya tha', 'liye bhi', 'liye dua', 'logo ko', 'logon ki', 'logon ko', 'love you', 'ma sha', 'main is', 'main ne', 'major muhammad', 'marilyn monroe', 'masha allah', 'master inayat', 'matches mein', 'me firing', 'mein aap', 'mein aik', 'mein apne', 'mein apni', 'mein app', 'mein bhi', 'mein bohat', 'mein hi', 'mein hissa', 'mein hone', 'mein in', 'mein inhe', 'mein inho', 'mein is', 'mein jab', 'mein kaam', 'mein koi', 'mein paida', 'mein pakistan', 'mein se', 'mein shamil', 'mein sirf', 'mein un', 'mein unhon', 'mein wo', 'mein woh', 'mein ye', 'mein yeh', 'mere liye', 'meri taraf', 'meri trf', 'mil kar', 'milta hai', 'mohammed ali', 'molvi abdul', 'mother teresa', 'muhammad akram', 'mulk ki', 'mulk mein', 'muqarrar hue', 'muslim league', 'na ho', 'na kar', 'na sirf', 'na tha', 'naam se', 'nahi aaya', 'nahi hai', 'nahi ho', 'nahi kar', 'nahi ki', 'nahi kiya', 'nahi tha', 'nahi thi', 'nai hai', 'nasir iqbal', 'nawaz shareef', 'nawaz sharif', 'ne aik', 'ne apne', 'ne apni', 'ne bhi', 'ne in', 'ne inhe', 'ne is', 'ne kaha', 'ne khud', 'ne un', 'ne ye', 'ne yeh', 'new zealand', 'next time', 'nhi hai', 'of the', 'office par', 'one day', 'open ke', 'or jo', 'or wo', 'paida hue', 'pakistan ka', 'pakistan kay', 'pakistan ke', 'pakistan ki', 'pakistan ko', 'pakistan mein', 'pakistan ne', 'par bhi', 'par is', 'party ke', 'pasand hai', 'pesh kiya', 'pir ali', 'pir pagara', 'product hai', 'qarar diya', 'quaid azam', 'raghib ahsan', 'raha ha', 'raha hai', 'raha tha', 'rahay hain', 'rahe aur', 'rahe hain', 'rahe the', 'raheel sharif', 'rahi hai', 'rahi hain', 'rahi thi', 'rahy hain', 'rakhte the', 'rakhy ameen', 'rashid minhas', 'razia sheer', 'read more', 'reham khan', 'rehta hai', 'rha hai', 'roshan khan', 'saal ke', 'saal ki', 'saal tak', 'sab ko', 'sab kuch', 'sab se', 'saeed anwar', 'sahib ne', 'sahir lodhi', 'sakta hai', 'sakty hain', 'salamat rakhy', 'salman khan', 'sarojini naidu', 'satah par', 'sath sath', 'sb ko', 'sb se', 'school mein', 'se aik', 'se bhi', 'se bohat', 'se hasil', 'se he', 'se hi', 'se in', 'se is', 'se kam', 'se kiya', 'se koi', 'se le', 'se nawaza', 'se pehle', 'se phele', 'se shadi', 'se un', 'se ziyada', 'se ziyadah', 'sha allah', 'shadi ke', 'shadi ki', 'shahbaz sharif', 'shahid afridi', 'shahrukh khan', 'shamil hai', 'shamil hain', 'shamil ho', 'sharif ne', 'sheer khan', 'shuru kar', 'shuru ki', 'silsile mein', 'sir abdullah', 'sirf aik', 'so much', 'squash ki', 'squash mein', 'sub ko', 'subhan allah', 'supreme court', 'sylvester stallone', 'tag kr', 'tak ke', 'taleem hasil', 'taleem ke', 'taraf say', 'taraf se', 'taur par', 'team ki', 'team ko', 'test matches', 'tha aur', 'tha jis', 'tha ke', 'tha lekin', 'tha to', 'thank you', 'thanks to', 'the aur', 'the ke', 'they aur', 'thi aur', 'thi ke', 'this is', 'to aap', 'to ap', 'to in', 'to is', 'to koi', 'to us', 'to wo', 'to ye', 'tor par', 'tour per', 'trf se', 'ul haq', 'umar mein', 'umer mein', 'un ka', 'un ke', 'un ki', 'un ko', 'un par', 'un se', 'uncle aunty', 'uncle ko', 'unho ne', 'unhon nay', 'unhon ne', 'university se', 'up gradation', 'urdu ke', 'us ka', 'us ke', 'us ki', 'us ko', 'us ne', 'us se', 'us waqat', 'us waqt', 'very good', 'wah wah', 'waheed murad', 'waja se', 'wajah se', 'wasim akram', 'wazir azam', 'wo aik', 'wo apni', 'wo bhi', 'wo is', 'wo to', 'world cup', 'ya allah', 'ye baat', 'ye bhi', 'ye hai', 'ye kia', 'ye to', 'yeh hai', 'zamane mein', 'zia mohyeddin', 'zia ul', 'zindagi ka', 'zindagi ke', 'zindagi ki', 'zindagi mein', 'zulfiqar ali']\n",
      "[[0 0 0 ... 0 0 0]\n",
      " [0 0 0 ... 0 0 0]\n",
      " [0 0 0 ... 0 0 0]\n",
      " ...\n",
      " [0 0 0 ... 0 0 0]\n",
      " [0 0 0 ... 0 0 0]\n",
      " [0 0 0 ... 0 0 0]]\n"
     ]
    }
   ],
   "source": [
    "reviews = list(dataset.Review.astype('U'))\n",
    "from sklearn.feature_extraction.text import CountVectorizer\n",
    "\n",
    "vectorizer = CountVectorizer(max_features=800, ngram_range = (2,2))\n",
    "X = vectorizer.fit_transform(reviews).toarray()\n",
    "print(vectorizer.get_feature_names())\n",
    "print(X)\n"
   ]
  },
  {
   "cell_type": "markdown",
   "metadata": {},
   "source": [
    "## Creating Train Test Split"
   ]
  },
  {
   "cell_type": "code",
   "execution_count": 5,
   "metadata": {},
   "outputs": [],
   "source": [
    "y = dataset.iloc[:, 1] # input labels\n",
    "from sklearn.model_selection import train_test_split\n",
    "X_train, X_test, y_train, y_test = train_test_split(X, y, test_size = 0.2)"
   ]
  },
  {
   "cell_type": "markdown",
   "metadata": {},
   "source": [
    "### ML Models for Classification"
   ]
  },
  {
   "cell_type": "code",
   "execution_count": 6,
   "metadata": {},
   "outputs": [],
   "source": [
    "def run_algorithm(classifier, X_train, X_test, y_train, y_test):\n",
    "    classifier.fit(X_train, y_train)\n",
    "\n",
    "    y_pred = classifier.predict(X_test)\n",
    "\n",
    "    # Evaluation Metrix \n",
    "    from sklearn.metrics import accuracy_score\n",
    "    from sklearn.metrics import confusion_matrix\n",
    "    from sklearn.metrics import f1_score\n",
    "    from sklearn.metrics import precision_score\n",
    "    from sklearn.metrics import recall_score\n",
    "    accuracy_N = accuracy_score(y_test, y_pred)\n",
    "\n",
    "    print(\"Confusion Matrix:\\n\",confusion_matrix(y_test, y_pred),\"\\n\")\n",
    "\n",
    "    print(\"The accuracy score: \",accuracy_N*100)\n",
    "    f1_score_N = f1_score(y_test, y_pred, average = 'weighted')\n",
    "    print(\"F1 Score: \", f1_score_N*100)\n",
    "    precision = precision_score(y_test, y_pred, average='weighted')\n",
    "    print(\"The Precision Score: \", precision*100)\n",
    "    recall = recall_score(y_test, y_pred, average='weighted')\n",
    "    print(\"The Recall Score: \", recall*100)\n",
    "    "
   ]
  },
  {
   "cell_type": "code",
   "execution_count": 7,
   "metadata": {},
   "outputs": [
    {
     "name": "stdout",
     "output_type": "stream",
     "text": [
      "->Naive Bayes with BOW Vectors Bi-gram and top 800 features\n",
      "\n",
      "20% Testing Data | 80% Training Data\n",
      "Confusion Matrix:\n",
      " [[ 952   53   67]\n",
      " [1467  187  128]\n",
      " [ 834   89  269]] \n",
      "\n",
      "The accuracy score:  34.799802273850716\n",
      "F1 Score:  29.038454887798487\n",
      "The Precision Score:  49.86764637112\n",
      "The Recall Score:  34.799802273850716\n"
     ]
    }
   ],
   "source": [
    "# using Naive Bayes\n",
    "from sklearn.naive_bayes import GaussianNB\n",
    "print(\"->Naive Bayes with BOW Vectors Bi-gram and top 800 features\\n\")\n",
    "print(\"20% Testing Data | 80% Training Data\")\n",
    "classifier = GaussianNB()\n",
    "run_algorithm(classifier, X_train, X_test, y_train, y_test)"
   ]
  },
  {
   "cell_type": "code",
   "execution_count": 8,
   "metadata": {},
   "outputs": [
    {
     "name": "stdout",
     "output_type": "stream",
     "text": [
      "->Random Forest with BOW Vectors Bi-gram and top 800 features\n",
      "\n",
      "20% Testing Data | 80% Training Data\n"
     ]
    },
    {
     "name": "stderr",
     "output_type": "stream",
     "text": [
      "C:\\Users\\jumsh\\Anaconda3\\lib\\site-packages\\sklearn\\ensemble\\forest.py:245: FutureWarning: The default value of n_estimators will change from 10 in version 0.20 to 100 in 0.22.\n",
      "  \"10 in version 0.20 to 100 in 0.22.\", FutureWarning)\n"
     ]
    },
    {
     "name": "stdout",
     "output_type": "stream",
     "text": [
      "Confusion Matrix:\n",
      " [[ 192  742  138]\n",
      " [ 129 1456  197]\n",
      " [ 125  697  370]] \n",
      "\n",
      "The accuracy score:  49.87642115669797\n",
      "F1 Score:  45.61729886440326\n",
      "The Precision Score:  49.019020417011106\n",
      "The Recall Score:  49.87642115669797\n"
     ]
    }
   ],
   "source": [
    "# using Random Forest\n",
    "from sklearn.ensemble import RandomForestClassifier\n",
    "print(\"->Random Forest with BOW Vectors Bi-gram and top 800 features\\n\")\n",
    "print(\"20% Testing Data | 80% Training Data\")\n",
    "classifier = RandomForestClassifier()\n",
    "run_algorithm(classifier, X_train, X_test, y_train, y_test)"
   ]
  },
  {
   "cell_type": "code",
   "execution_count": 9,
   "metadata": {},
   "outputs": [
    {
     "name": "stdout",
     "output_type": "stream",
     "text": [
      "->Adboost with BOW Vectors Bi-gram and top 800 features\n",
      "\n",
      "20% Testing Data | 80% Training Data\n",
      "Confusion Matrix:\n",
      " [[ 206  751  115]\n",
      " [ 138 1458  186]\n",
      " [ 144  685  363]] \n",
      "\n",
      "The accuracy score:  50.09886307464162\n",
      "F1 Score:  45.98759448598803\n",
      "The Precision Score:  49.47969640861196\n",
      "The Recall Score:  50.09886307464162\n"
     ]
    }
   ],
   "source": [
    "# using Adboost\n",
    "from sklearn.ensemble import AdaBoostClassifier\n",
    "print(\"->Adboost with BOW Vectors Bi-gram and top 800 features\\n\")\n",
    "print(\"20% Testing Data | 80% Training Data\")\n",
    "clf = AdaBoostClassifier(n_estimators=100, random_state=0)\n",
    "run_algorithm(classifier, X_train, X_test, y_train, y_test)"
   ]
  },
  {
   "cell_type": "code",
   "execution_count": 10,
   "metadata": {
    "scrolled": false
   },
   "outputs": [
    {
     "name": "stdout",
     "output_type": "stream",
     "text": [
      "->KNN with BOW Vectors Bi-gram and top 800 features\n",
      "\n",
      "20% Testing Data | 80% Training Data\n",
      "Confusion Matrix:\n",
      " [[ 208  736  128]\n",
      " [ 131 1459  192]\n",
      " [ 139  685  368]] \n",
      "\n",
      "The accuracy score:  50.29658922392486\n",
      "F1 Score:  46.212081173143574\n",
      "The Precision Score:  49.599966208515475\n",
      "The Recall Score:  50.29658922392486\n"
     ]
    }
   ],
   "source": [
    "#Using KNN\n",
    "from sklearn.neighbors import KNeighborsClassifier\n",
    "print(\"->KNN with BOW Vectors Bi-gram and top 800 features\\n\")\n",
    "print(\"20% Testing Data | 80% Training Data\")\n",
    "clf =  KNeighborsClassifier(n_neighbors=3)\n",
    "run_algorithm(classifier, X_train, X_test, y_train, y_test)"
   ]
  },
  {
   "cell_type": "code",
   "execution_count": null,
   "metadata": {},
   "outputs": [],
   "source": []
  }
 ],
 "metadata": {
  "kernelspec": {
   "display_name": "Python 3",
   "language": "python",
   "name": "python3"
  },
  "language_info": {
   "codemirror_mode": {
    "name": "ipython",
    "version": 3
   },
   "file_extension": ".py",
   "mimetype": "text/x-python",
   "name": "python",
   "nbconvert_exporter": "python",
   "pygments_lexer": "ipython3",
   "version": "3.7.4"
  }
 },
 "nbformat": 4,
 "nbformat_minor": 2
}
